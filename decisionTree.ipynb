{
 "cells": [
  {
   "cell_type": "code",
   "execution_count": 160,
   "metadata": {},
   "outputs": [
    {
     "data": {
      "text/plain": [
       "(5986, 8)"
      ]
     },
     "execution_count": 160,
     "metadata": {},
     "output_type": "execute_result"
    }
   ],
   "source": [
    "import quandl\n",
    "df = quandl.get(\"CHRIS/CME_ES2\")\n",
    "df.head()\n",
    "df.tail()\n",
    "df.shape"
   ]
  },
  {
   "cell_type": "code",
   "execution_count": 161,
   "metadata": {},
   "outputs": [
    {
     "data": {
      "text/html": [
       "<div>\n",
       "<style scoped>\n",
       "    .dataframe tbody tr th:only-of-type {\n",
       "        vertical-align: middle;\n",
       "    }\n",
       "\n",
       "    .dataframe tbody tr th {\n",
       "        vertical-align: top;\n",
       "    }\n",
       "\n",
       "    .dataframe thead th {\n",
       "        text-align: right;\n",
       "    }\n",
       "</style>\n",
       "<table border=\"1\" class=\"dataframe\">\n",
       "  <thead>\n",
       "    <tr style=\"text-align: right;\">\n",
       "      <th></th>\n",
       "      <th>Open</th>\n",
       "      <th>High</th>\n",
       "      <th>Low</th>\n",
       "      <th>Last</th>\n",
       "      <th>Change</th>\n",
       "      <th>Settle</th>\n",
       "      <th>Volume</th>\n",
       "      <th>Previous Day Open Interest</th>\n",
       "      <th>EMA10</th>\n",
       "      <th>EMA30</th>\n",
       "      <th>ATR</th>\n",
       "      <th>ADX</th>\n",
       "      <th>RSI</th>\n",
       "      <th>MACD</th>\n",
       "      <th>MACDsignal</th>\n",
       "    </tr>\n",
       "    <tr>\n",
       "      <th>Date</th>\n",
       "      <th></th>\n",
       "      <th></th>\n",
       "      <th></th>\n",
       "      <th></th>\n",
       "      <th></th>\n",
       "      <th></th>\n",
       "      <th></th>\n",
       "      <th></th>\n",
       "      <th></th>\n",
       "      <th></th>\n",
       "      <th></th>\n",
       "      <th></th>\n",
       "      <th></th>\n",
       "      <th></th>\n",
       "      <th></th>\n",
       "    </tr>\n",
       "  </thead>\n",
       "  <tbody>\n",
       "    <tr>\n",
       "      <th>2021-03-15</th>\n",
       "      <td>3937.50</td>\n",
       "      <td>3960.25</td>\n",
       "      <td>3913.00</td>\n",
       "      <td>3956.75</td>\n",
       "      <td>25.50</td>\n",
       "      <td>3958.25</td>\n",
       "      <td>1962578.0</td>\n",
       "      <td>1074588.0</td>\n",
       "      <td>3888.845380</td>\n",
       "      <td>3854.728033</td>\n",
       "      <td>67.948613</td>\n",
       "      <td>15.367395</td>\n",
       "      <td>61.385366</td>\n",
       "      <td>22.341798</td>\n",
       "      <td>13.495622</td>\n",
       "    </tr>\n",
       "    <tr>\n",
       "      <th>2021-03-16</th>\n",
       "      <td>3957.75</td>\n",
       "      <td>3970.75</td>\n",
       "      <td>3942.75</td>\n",
       "      <td>3957.50</td>\n",
       "      <td>-5.75</td>\n",
       "      <td>3952.50</td>\n",
       "      <td>1963102.0</td>\n",
       "      <td>1872176.0</td>\n",
       "      <td>3900.418947</td>\n",
       "      <td>3861.035901</td>\n",
       "      <td>65.095140</td>\n",
       "      <td>14.628503</td>\n",
       "      <td>60.581439</td>\n",
       "      <td>26.192142</td>\n",
       "      <td>16.034926</td>\n",
       "    </tr>\n",
       "    <tr>\n",
       "      <th>2021-03-17</th>\n",
       "      <td>3957.25</td>\n",
       "      <td>3973.50</td>\n",
       "      <td>3925.00</td>\n",
       "      <td>3961.25</td>\n",
       "      <td>11.00</td>\n",
       "      <td>3963.50</td>\n",
       "      <td>1922176.0</td>\n",
       "      <td>2334286.0</td>\n",
       "      <td>3911.888230</td>\n",
       "      <td>3867.646488</td>\n",
       "      <td>63.909773</td>\n",
       "      <td>13.605031</td>\n",
       "      <td>61.617057</td>\n",
       "      <td>29.787800</td>\n",
       "      <td>18.785501</td>\n",
       "    </tr>\n",
       "    <tr>\n",
       "      <th>2021-03-18</th>\n",
       "      <td>3962.00</td>\n",
       "      <td>3978.50</td>\n",
       "      <td>3900.50</td>\n",
       "      <td>3910.50</td>\n",
       "      <td>-57.50</td>\n",
       "      <td>3906.00</td>\n",
       "      <td>2096466.0</td>\n",
       "      <td>2499994.0</td>\n",
       "      <td>3910.817642</td>\n",
       "      <td>3870.120909</td>\n",
       "      <td>64.916218</td>\n",
       "      <td>13.153586</td>\n",
       "      <td>53.678224</td>\n",
       "      <td>27.678555</td>\n",
       "      <td>20.564112</td>\n",
       "    </tr>\n",
       "    <tr>\n",
       "      <th>2021-03-19</th>\n",
       "      <td>3910.75</td>\n",
       "      <td>3923.50</td>\n",
       "      <td>3875.00</td>\n",
       "      <td>3896.75</td>\n",
       "      <td>-6.25</td>\n",
       "      <td>3899.75</td>\n",
       "      <td>1986486.0</td>\n",
       "      <td>2556702.0</td>\n",
       "      <td>3908.805344</td>\n",
       "      <td>3872.032463</td>\n",
       "      <td>63.743631</td>\n",
       "      <td>13.216574</td>\n",
       "      <td>52.880689</td>\n",
       "      <td>25.212012</td>\n",
       "      <td>21.493692</td>\n",
       "    </tr>\n",
       "  </tbody>\n",
       "</table>\n",
       "</div>"
      ],
      "text/plain": [
       "               Open     High      Low     Last  Change   Settle     Volume  \\\n",
       "Date                                                                         \n",
       "2021-03-15  3937.50  3960.25  3913.00  3956.75   25.50  3958.25  1962578.0   \n",
       "2021-03-16  3957.75  3970.75  3942.75  3957.50   -5.75  3952.50  1963102.0   \n",
       "2021-03-17  3957.25  3973.50  3925.00  3961.25   11.00  3963.50  1922176.0   \n",
       "2021-03-18  3962.00  3978.50  3900.50  3910.50  -57.50  3906.00  2096466.0   \n",
       "2021-03-19  3910.75  3923.50  3875.00  3896.75   -6.25  3899.75  1986486.0   \n",
       "\n",
       "            Previous Day Open Interest        EMA10        EMA30        ATR  \\\n",
       "Date                                                                          \n",
       "2021-03-15                   1074588.0  3888.845380  3854.728033  67.948613   \n",
       "2021-03-16                   1872176.0  3900.418947  3861.035901  65.095140   \n",
       "2021-03-17                   2334286.0  3911.888230  3867.646488  63.909773   \n",
       "2021-03-18                   2499994.0  3910.817642  3870.120909  64.916218   \n",
       "2021-03-19                   2556702.0  3908.805344  3872.032463  63.743631   \n",
       "\n",
       "                  ADX        RSI       MACD  MACDsignal  \n",
       "Date                                                     \n",
       "2021-03-15  15.367395  61.385366  22.341798   13.495622  \n",
       "2021-03-16  14.628503  60.581439  26.192142   16.034926  \n",
       "2021-03-17  13.605031  61.617057  29.787800   18.785501  \n",
       "2021-03-18  13.153586  53.678224  27.678555   20.564112  \n",
       "2021-03-19  13.216574  52.880689  25.212012   21.493692  "
      ]
     },
     "execution_count": 161,
     "metadata": {},
     "output_type": "execute_result"
    }
   ],
   "source": [
    "import talib as ta\n",
    "df['EMA10'] = ta.EMA(df['Settle'].values, timeperiod=10)\n",
    "df['EMA30'] = ta.EMA(df['Settle'].values, timeperiod=30)\n",
    "df['ATR'] = ta.ATR(df['High'].values, df['Low'].values, df['Settle'].values, timeperiod=14)\n",
    "df['ADX'] = ta.ADX(df['High'].values, df['Low'].values, df['Settle'].values, timeperiod=14)\n",
    "df['RSI'] = ta.RSI(df['Settle'].values, timeperiod=14)\n",
    "macd, macdsignal, macdhist = ta.MACD(df['Settle'].values, fastperiod=12, slowperiod=26, signalperiod=9)\n",
    "df['MACD'] = macd\n",
    "df['MACDsignal'] = macdsignal\n",
    "df.tail()"
   ]
  },
  {
   "cell_type": "code",
   "execution_count": 162,
   "metadata": {},
   "outputs": [
    {
     "name": "stdout",
     "output_type": "stream",
     "text": [
      "<class 'pandas.core.frame.DataFrame'>\n",
      "DatetimeIndex: 5986 entries, 1997-09-09 to 2021-03-19\n",
      "Data columns (total 15 columns):\n",
      " #   Column                      Non-Null Count  Dtype  \n",
      "---  ------                      --------------  -----  \n",
      " 0   Open                        5986 non-null   float64\n",
      " 1   High                        5986 non-null   float64\n",
      " 2   Low                         5986 non-null   float64\n",
      " 3   Last                        5986 non-null   float64\n",
      " 4   Change                      1775 non-null   float64\n",
      " 5   Settle                      5986 non-null   float64\n",
      " 6   Volume                      5986 non-null   float64\n",
      " 7   Previous Day Open Interest  5986 non-null   float64\n",
      " 8   EMA10                       5977 non-null   float64\n",
      " 9   EMA30                       5957 non-null   float64\n",
      " 10  ATR                         5972 non-null   float64\n",
      " 11  ADX                         5959 non-null   float64\n",
      " 12  RSI                         5972 non-null   float64\n",
      " 13  MACD                        5953 non-null   float64\n",
      " 14  MACDsignal                  5953 non-null   float64\n",
      "dtypes: float64(15)\n",
      "memory usage: 748.2 KB\n"
     ]
    }
   ],
   "source": [
    "df.info()"
   ]
  },
  {
   "cell_type": "code",
   "execution_count": 163,
   "metadata": {},
   "outputs": [
    {
     "data": {
      "text/html": [
       "<div>\n",
       "<style scoped>\n",
       "    .dataframe tbody tr th:only-of-type {\n",
       "        vertical-align: middle;\n",
       "    }\n",
       "\n",
       "    .dataframe tbody tr th {\n",
       "        vertical-align: top;\n",
       "    }\n",
       "\n",
       "    .dataframe thead th {\n",
       "        text-align: right;\n",
       "    }\n",
       "</style>\n",
       "<table border=\"1\" class=\"dataframe\">\n",
       "  <thead>\n",
       "    <tr style=\"text-align: right;\">\n",
       "      <th></th>\n",
       "      <th>Open</th>\n",
       "      <th>High</th>\n",
       "      <th>Low</th>\n",
       "      <th>Last</th>\n",
       "      <th>Change</th>\n",
       "      <th>Settle</th>\n",
       "      <th>Volume</th>\n",
       "      <th>Previous Day Open Interest</th>\n",
       "      <th>EMA10</th>\n",
       "      <th>EMA30</th>\n",
       "      <th>ATR</th>\n",
       "      <th>ADX</th>\n",
       "      <th>RSI</th>\n",
       "      <th>MACD</th>\n",
       "      <th>MACDsignal</th>\n",
       "      <th>ClgtEMA10</th>\n",
       "      <th>EMA10gtEMA30</th>\n",
       "      <th>MACDSIGgtMACD</th>\n",
       "    </tr>\n",
       "    <tr>\n",
       "      <th>Date</th>\n",
       "      <th></th>\n",
       "      <th></th>\n",
       "      <th></th>\n",
       "      <th></th>\n",
       "      <th></th>\n",
       "      <th></th>\n",
       "      <th></th>\n",
       "      <th></th>\n",
       "      <th></th>\n",
       "      <th></th>\n",
       "      <th></th>\n",
       "      <th></th>\n",
       "      <th></th>\n",
       "      <th></th>\n",
       "      <th></th>\n",
       "      <th></th>\n",
       "      <th></th>\n",
       "      <th></th>\n",
       "    </tr>\n",
       "  </thead>\n",
       "  <tbody>\n",
       "    <tr>\n",
       "      <th>2021-03-15</th>\n",
       "      <td>3937.50</td>\n",
       "      <td>3960.25</td>\n",
       "      <td>3913.00</td>\n",
       "      <td>3956.75</td>\n",
       "      <td>25.50</td>\n",
       "      <td>3958.25</td>\n",
       "      <td>1962578.0</td>\n",
       "      <td>1074588.0</td>\n",
       "      <td>3888.845380</td>\n",
       "      <td>3854.728033</td>\n",
       "      <td>67.948613</td>\n",
       "      <td>15.367395</td>\n",
       "      <td>61.385366</td>\n",
       "      <td>22.341798</td>\n",
       "      <td>13.495622</td>\n",
       "      <td>1</td>\n",
       "      <td>1</td>\n",
       "      <td>-1</td>\n",
       "    </tr>\n",
       "    <tr>\n",
       "      <th>2021-03-16</th>\n",
       "      <td>3957.75</td>\n",
       "      <td>3970.75</td>\n",
       "      <td>3942.75</td>\n",
       "      <td>3957.50</td>\n",
       "      <td>-5.75</td>\n",
       "      <td>3952.50</td>\n",
       "      <td>1963102.0</td>\n",
       "      <td>1872176.0</td>\n",
       "      <td>3900.418947</td>\n",
       "      <td>3861.035901</td>\n",
       "      <td>65.095140</td>\n",
       "      <td>14.628503</td>\n",
       "      <td>60.581439</td>\n",
       "      <td>26.192142</td>\n",
       "      <td>16.034926</td>\n",
       "      <td>1</td>\n",
       "      <td>1</td>\n",
       "      <td>-1</td>\n",
       "    </tr>\n",
       "    <tr>\n",
       "      <th>2021-03-17</th>\n",
       "      <td>3957.25</td>\n",
       "      <td>3973.50</td>\n",
       "      <td>3925.00</td>\n",
       "      <td>3961.25</td>\n",
       "      <td>11.00</td>\n",
       "      <td>3963.50</td>\n",
       "      <td>1922176.0</td>\n",
       "      <td>2334286.0</td>\n",
       "      <td>3911.888230</td>\n",
       "      <td>3867.646488</td>\n",
       "      <td>63.909773</td>\n",
       "      <td>13.605031</td>\n",
       "      <td>61.617057</td>\n",
       "      <td>29.787800</td>\n",
       "      <td>18.785501</td>\n",
       "      <td>1</td>\n",
       "      <td>1</td>\n",
       "      <td>-1</td>\n",
       "    </tr>\n",
       "    <tr>\n",
       "      <th>2021-03-18</th>\n",
       "      <td>3962.00</td>\n",
       "      <td>3978.50</td>\n",
       "      <td>3900.50</td>\n",
       "      <td>3910.50</td>\n",
       "      <td>-57.50</td>\n",
       "      <td>3906.00</td>\n",
       "      <td>2096466.0</td>\n",
       "      <td>2499994.0</td>\n",
       "      <td>3910.817642</td>\n",
       "      <td>3870.120909</td>\n",
       "      <td>64.916218</td>\n",
       "      <td>13.153586</td>\n",
       "      <td>53.678224</td>\n",
       "      <td>27.678555</td>\n",
       "      <td>20.564112</td>\n",
       "      <td>-1</td>\n",
       "      <td>1</td>\n",
       "      <td>-1</td>\n",
       "    </tr>\n",
       "    <tr>\n",
       "      <th>2021-03-19</th>\n",
       "      <td>3910.75</td>\n",
       "      <td>3923.50</td>\n",
       "      <td>3875.00</td>\n",
       "      <td>3896.75</td>\n",
       "      <td>-6.25</td>\n",
       "      <td>3899.75</td>\n",
       "      <td>1986486.0</td>\n",
       "      <td>2556702.0</td>\n",
       "      <td>3908.805344</td>\n",
       "      <td>3872.032463</td>\n",
       "      <td>63.743631</td>\n",
       "      <td>13.216574</td>\n",
       "      <td>52.880689</td>\n",
       "      <td>25.212012</td>\n",
       "      <td>21.493692</td>\n",
       "      <td>-1</td>\n",
       "      <td>1</td>\n",
       "      <td>-1</td>\n",
       "    </tr>\n",
       "  </tbody>\n",
       "</table>\n",
       "</div>"
      ],
      "text/plain": [
       "               Open     High      Low     Last  Change   Settle     Volume  \\\n",
       "Date                                                                         \n",
       "2021-03-15  3937.50  3960.25  3913.00  3956.75   25.50  3958.25  1962578.0   \n",
       "2021-03-16  3957.75  3970.75  3942.75  3957.50   -5.75  3952.50  1963102.0   \n",
       "2021-03-17  3957.25  3973.50  3925.00  3961.25   11.00  3963.50  1922176.0   \n",
       "2021-03-18  3962.00  3978.50  3900.50  3910.50  -57.50  3906.00  2096466.0   \n",
       "2021-03-19  3910.75  3923.50  3875.00  3896.75   -6.25  3899.75  1986486.0   \n",
       "\n",
       "            Previous Day Open Interest        EMA10        EMA30        ATR  \\\n",
       "Date                                                                          \n",
       "2021-03-15                   1074588.0  3888.845380  3854.728033  67.948613   \n",
       "2021-03-16                   1872176.0  3900.418947  3861.035901  65.095140   \n",
       "2021-03-17                   2334286.0  3911.888230  3867.646488  63.909773   \n",
       "2021-03-18                   2499994.0  3910.817642  3870.120909  64.916218   \n",
       "2021-03-19                   2556702.0  3908.805344  3872.032463  63.743631   \n",
       "\n",
       "                  ADX        RSI       MACD  MACDsignal  ClgtEMA10  \\\n",
       "Date                                                                 \n",
       "2021-03-15  15.367395  61.385366  22.341798   13.495622          1   \n",
       "2021-03-16  14.628503  60.581439  26.192142   16.034926          1   \n",
       "2021-03-17  13.605031  61.617057  29.787800   18.785501          1   \n",
       "2021-03-18  13.153586  53.678224  27.678555   20.564112         -1   \n",
       "2021-03-19  13.216574  52.880689  25.212012   21.493692         -1   \n",
       "\n",
       "            EMA10gtEMA30  MACDSIGgtMACD  \n",
       "Date                                     \n",
       "2021-03-15             1             -1  \n",
       "2021-03-16             1             -1  \n",
       "2021-03-17             1             -1  \n",
       "2021-03-18             1             -1  \n",
       "2021-03-19             1             -1  "
      ]
     },
     "execution_count": 163,
     "metadata": {},
     "output_type": "execute_result"
    }
   ],
   "source": [
    "import numpy as np\n",
    "df['ClgtEMA10'] = np.where(df['Settle'] > df['EMA10'], 1, -1)\n",
    "df['EMA10gtEMA30'] = np.where(df['EMA10'] > df['EMA30'], 1, -1)\n",
    "df['MACDSIGgtMACD'] = np.where(df['MACDsignal'] > df['MACD'], 1, -1)\n",
    "df.tail()"
   ]
  },
  {
   "cell_type": "code",
   "execution_count": 164,
   "metadata": {},
   "outputs": [
    {
     "data": {
      "text/html": [
       "<div>\n",
       "<style scoped>\n",
       "    .dataframe tbody tr th:only-of-type {\n",
       "        vertical-align: middle;\n",
       "    }\n",
       "\n",
       "    .dataframe tbody tr th {\n",
       "        vertical-align: top;\n",
       "    }\n",
       "\n",
       "    .dataframe thead th {\n",
       "        text-align: right;\n",
       "    }\n",
       "</style>\n",
       "<table border=\"1\" class=\"dataframe\">\n",
       "  <thead>\n",
       "    <tr style=\"text-align: right;\">\n",
       "      <th></th>\n",
       "      <th>Open</th>\n",
       "      <th>High</th>\n",
       "      <th>Low</th>\n",
       "      <th>Last</th>\n",
       "      <th>Change</th>\n",
       "      <th>Settle</th>\n",
       "      <th>Volume</th>\n",
       "      <th>Previous Day Open Interest</th>\n",
       "      <th>EMA10</th>\n",
       "      <th>EMA30</th>\n",
       "      <th>...</th>\n",
       "      <th>ADX</th>\n",
       "      <th>RSI</th>\n",
       "      <th>MACD</th>\n",
       "      <th>MACDsignal</th>\n",
       "      <th>ClgtEMA10</th>\n",
       "      <th>EMA10gtEMA30</th>\n",
       "      <th>MACDSIGgtMACD</th>\n",
       "      <th>Return</th>\n",
       "      <th>target_cls</th>\n",
       "      <th>target_rgs</th>\n",
       "    </tr>\n",
       "    <tr>\n",
       "      <th>Date</th>\n",
       "      <th></th>\n",
       "      <th></th>\n",
       "      <th></th>\n",
       "      <th></th>\n",
       "      <th></th>\n",
       "      <th></th>\n",
       "      <th></th>\n",
       "      <th></th>\n",
       "      <th></th>\n",
       "      <th></th>\n",
       "      <th></th>\n",
       "      <th></th>\n",
       "      <th></th>\n",
       "      <th></th>\n",
       "      <th></th>\n",
       "      <th></th>\n",
       "      <th></th>\n",
       "      <th></th>\n",
       "      <th></th>\n",
       "      <th></th>\n",
       "      <th></th>\n",
       "    </tr>\n",
       "  </thead>\n",
       "  <tbody>\n",
       "    <tr>\n",
       "      <th>2021-03-15</th>\n",
       "      <td>3937.50</td>\n",
       "      <td>3960.25</td>\n",
       "      <td>3913.00</td>\n",
       "      <td>3956.75</td>\n",
       "      <td>25.50</td>\n",
       "      <td>3958.25</td>\n",
       "      <td>1962578.0</td>\n",
       "      <td>1074588.0</td>\n",
       "      <td>3888.845380</td>\n",
       "      <td>3854.728033</td>\n",
       "      <td>...</td>\n",
       "      <td>15.367395</td>\n",
       "      <td>61.385366</td>\n",
       "      <td>22.341798</td>\n",
       "      <td>13.495622</td>\n",
       "      <td>1</td>\n",
       "      <td>1</td>\n",
       "      <td>-1</td>\n",
       "      <td>-0.001453</td>\n",
       "      <td>0</td>\n",
       "      <td>-0.001453</td>\n",
       "    </tr>\n",
       "    <tr>\n",
       "      <th>2021-03-16</th>\n",
       "      <td>3957.75</td>\n",
       "      <td>3970.75</td>\n",
       "      <td>3942.75</td>\n",
       "      <td>3957.50</td>\n",
       "      <td>-5.75</td>\n",
       "      <td>3952.50</td>\n",
       "      <td>1963102.0</td>\n",
       "      <td>1872176.0</td>\n",
       "      <td>3900.418947</td>\n",
       "      <td>3861.035901</td>\n",
       "      <td>...</td>\n",
       "      <td>14.628503</td>\n",
       "      <td>60.581439</td>\n",
       "      <td>26.192142</td>\n",
       "      <td>16.034926</td>\n",
       "      <td>1</td>\n",
       "      <td>1</td>\n",
       "      <td>-1</td>\n",
       "      <td>0.002783</td>\n",
       "      <td>1</td>\n",
       "      <td>0.002783</td>\n",
       "    </tr>\n",
       "    <tr>\n",
       "      <th>2021-03-17</th>\n",
       "      <td>3957.25</td>\n",
       "      <td>3973.50</td>\n",
       "      <td>3925.00</td>\n",
       "      <td>3961.25</td>\n",
       "      <td>11.00</td>\n",
       "      <td>3963.50</td>\n",
       "      <td>1922176.0</td>\n",
       "      <td>2334286.0</td>\n",
       "      <td>3911.888230</td>\n",
       "      <td>3867.646488</td>\n",
       "      <td>...</td>\n",
       "      <td>13.605031</td>\n",
       "      <td>61.617057</td>\n",
       "      <td>29.787800</td>\n",
       "      <td>18.785501</td>\n",
       "      <td>1</td>\n",
       "      <td>1</td>\n",
       "      <td>-1</td>\n",
       "      <td>-0.014507</td>\n",
       "      <td>0</td>\n",
       "      <td>-0.014507</td>\n",
       "    </tr>\n",
       "    <tr>\n",
       "      <th>2021-03-18</th>\n",
       "      <td>3962.00</td>\n",
       "      <td>3978.50</td>\n",
       "      <td>3900.50</td>\n",
       "      <td>3910.50</td>\n",
       "      <td>-57.50</td>\n",
       "      <td>3906.00</td>\n",
       "      <td>2096466.0</td>\n",
       "      <td>2499994.0</td>\n",
       "      <td>3910.817642</td>\n",
       "      <td>3870.120909</td>\n",
       "      <td>...</td>\n",
       "      <td>13.153586</td>\n",
       "      <td>53.678224</td>\n",
       "      <td>27.678555</td>\n",
       "      <td>20.564112</td>\n",
       "      <td>-1</td>\n",
       "      <td>1</td>\n",
       "      <td>-1</td>\n",
       "      <td>-0.001600</td>\n",
       "      <td>0</td>\n",
       "      <td>-0.001600</td>\n",
       "    </tr>\n",
       "    <tr>\n",
       "      <th>2021-03-19</th>\n",
       "      <td>3910.75</td>\n",
       "      <td>3923.50</td>\n",
       "      <td>3875.00</td>\n",
       "      <td>3896.75</td>\n",
       "      <td>-6.25</td>\n",
       "      <td>3899.75</td>\n",
       "      <td>1986486.0</td>\n",
       "      <td>2556702.0</td>\n",
       "      <td>3908.805344</td>\n",
       "      <td>3872.032463</td>\n",
       "      <td>...</td>\n",
       "      <td>13.216574</td>\n",
       "      <td>52.880689</td>\n",
       "      <td>25.212012</td>\n",
       "      <td>21.493692</td>\n",
       "      <td>-1</td>\n",
       "      <td>1</td>\n",
       "      <td>-1</td>\n",
       "      <td>NaN</td>\n",
       "      <td>0</td>\n",
       "      <td>NaN</td>\n",
       "    </tr>\n",
       "  </tbody>\n",
       "</table>\n",
       "<p>5 rows × 21 columns</p>\n",
       "</div>"
      ],
      "text/plain": [
       "               Open     High      Low     Last  Change   Settle     Volume  \\\n",
       "Date                                                                         \n",
       "2021-03-15  3937.50  3960.25  3913.00  3956.75   25.50  3958.25  1962578.0   \n",
       "2021-03-16  3957.75  3970.75  3942.75  3957.50   -5.75  3952.50  1963102.0   \n",
       "2021-03-17  3957.25  3973.50  3925.00  3961.25   11.00  3963.50  1922176.0   \n",
       "2021-03-18  3962.00  3978.50  3900.50  3910.50  -57.50  3906.00  2096466.0   \n",
       "2021-03-19  3910.75  3923.50  3875.00  3896.75   -6.25  3899.75  1986486.0   \n",
       "\n",
       "            Previous Day Open Interest        EMA10        EMA30  ...  \\\n",
       "Date                                                              ...   \n",
       "2021-03-15                   1074588.0  3888.845380  3854.728033  ...   \n",
       "2021-03-16                   1872176.0  3900.418947  3861.035901  ...   \n",
       "2021-03-17                   2334286.0  3911.888230  3867.646488  ...   \n",
       "2021-03-18                   2499994.0  3910.817642  3870.120909  ...   \n",
       "2021-03-19                   2556702.0  3908.805344  3872.032463  ...   \n",
       "\n",
       "                  ADX        RSI       MACD  MACDsignal  ClgtEMA10  \\\n",
       "Date                                                                 \n",
       "2021-03-15  15.367395  61.385366  22.341798   13.495622          1   \n",
       "2021-03-16  14.628503  60.581439  26.192142   16.034926          1   \n",
       "2021-03-17  13.605031  61.617057  29.787800   18.785501          1   \n",
       "2021-03-18  13.153586  53.678224  27.678555   20.564112         -1   \n",
       "2021-03-19  13.216574  52.880689  25.212012   21.493692         -1   \n",
       "\n",
       "            EMA10gtEMA30  MACDSIGgtMACD    Return  target_cls  target_rgs  \n",
       "Date                                                                       \n",
       "2021-03-15             1             -1 -0.001453           0   -0.001453  \n",
       "2021-03-16             1             -1  0.002783           1    0.002783  \n",
       "2021-03-17             1             -1 -0.014507           0   -0.014507  \n",
       "2021-03-18             1             -1 -0.001600           0   -0.001600  \n",
       "2021-03-19             1             -1       NaN           0         NaN  \n",
       "\n",
       "[5 rows x 21 columns]"
      ]
     },
     "execution_count": 164,
     "metadata": {},
     "output_type": "execute_result"
    }
   ],
   "source": [
    "df['Return'] = df['Settle'].pct_change(1).shift(-1)\n",
    "df['target_cls'] = np.where(df.Return > 0, 1, 0)\n",
    "df['target_rgs'] = df['Return']\n",
    "df.tail()"
   ]
  },
  {
   "cell_type": "code",
   "execution_count": null,
   "metadata": {},
   "outputs": [],
   "source": []
  },
  {
   "cell_type": "code",
   "execution_count": 165,
   "metadata": {},
   "outputs": [],
   "source": [
    "df1=df.iloc[5806:5906,:]"
   ]
  },
  {
   "cell_type": "code",
   "execution_count": 166,
   "metadata": {},
   "outputs": [
    {
     "data": {
      "text/html": [
       "<div>\n",
       "<style scoped>\n",
       "    .dataframe tbody tr th:only-of-type {\n",
       "        vertical-align: middle;\n",
       "    }\n",
       "\n",
       "    .dataframe tbody tr th {\n",
       "        vertical-align: top;\n",
       "    }\n",
       "\n",
       "    .dataframe thead th {\n",
       "        text-align: right;\n",
       "    }\n",
       "</style>\n",
       "<table border=\"1\" class=\"dataframe\">\n",
       "  <thead>\n",
       "    <tr style=\"text-align: right;\">\n",
       "      <th></th>\n",
       "      <th>ATR</th>\n",
       "      <th>ADX</th>\n",
       "      <th>RSI</th>\n",
       "      <th>ClgtEMA10</th>\n",
       "      <th>EMA10gtEMA30</th>\n",
       "      <th>MACDSIGgtMACD</th>\n",
       "    </tr>\n",
       "    <tr>\n",
       "      <th>Date</th>\n",
       "      <th></th>\n",
       "      <th></th>\n",
       "      <th></th>\n",
       "      <th></th>\n",
       "      <th></th>\n",
       "      <th></th>\n",
       "    </tr>\n",
       "  </thead>\n",
       "  <tbody>\n",
       "    <tr>\n",
       "      <th>2020-11-16</th>\n",
       "      <td>74.090807</td>\n",
       "      <td>25.102841</td>\n",
       "      <td>67.075196</td>\n",
       "      <td>1</td>\n",
       "      <td>1</td>\n",
       "      <td>-1</td>\n",
       "    </tr>\n",
       "    <tr>\n",
       "      <th>2020-11-17</th>\n",
       "      <td>71.941463</td>\n",
       "      <td>25.763853</td>\n",
       "      <td>64.948620</td>\n",
       "      <td>1</td>\n",
       "      <td>1</td>\n",
       "      <td>-1</td>\n",
       "    </tr>\n",
       "    <tr>\n",
       "      <th>2020-11-18</th>\n",
       "      <td>71.534930</td>\n",
       "      <td>25.823450</td>\n",
       "      <td>59.528632</td>\n",
       "      <td>1</td>\n",
       "      <td>1</td>\n",
       "      <td>-1</td>\n",
       "    </tr>\n",
       "    <tr>\n",
       "      <th>2020-11-19</th>\n",
       "      <td>69.282435</td>\n",
       "      <td>25.591419</td>\n",
       "      <td>60.787218</td>\n",
       "      <td>1</td>\n",
       "      <td>1</td>\n",
       "      <td>-1</td>\n",
       "    </tr>\n",
       "    <tr>\n",
       "      <th>2020-11-20</th>\n",
       "      <td>67.190833</td>\n",
       "      <td>25.365461</td>\n",
       "      <td>57.452127</td>\n",
       "      <td>1</td>\n",
       "      <td>1</td>\n",
       "      <td>-1</td>\n",
       "    </tr>\n",
       "  </tbody>\n",
       "</table>\n",
       "</div>"
      ],
      "text/plain": [
       "                  ATR        ADX        RSI  ClgtEMA10  EMA10gtEMA30  \\\n",
       "Date                                                                   \n",
       "2020-11-16  74.090807  25.102841  67.075196          1             1   \n",
       "2020-11-17  71.941463  25.763853  64.948620          1             1   \n",
       "2020-11-18  71.534930  25.823450  59.528632          1             1   \n",
       "2020-11-19  69.282435  25.591419  60.787218          1             1   \n",
       "2020-11-20  67.190833  25.365461  57.452127          1             1   \n",
       "\n",
       "            MACDSIGgtMACD  \n",
       "Date                       \n",
       "2020-11-16             -1  \n",
       "2020-11-17             -1  \n",
       "2020-11-18             -1  \n",
       "2020-11-19             -1  \n",
       "2020-11-20             -1  "
      ]
     },
     "execution_count": 166,
     "metadata": {},
     "output_type": "execute_result"
    }
   ],
   "source": [
    "predictors_list = ['ATR', 'ADX','RSI', 'ClgtEMA10', 'EMA10gtEMA30', 'MACDSIGgtMACD']\n",
    "X = df1[predictors_list]\n",
    "X.tail()"
   ]
  },
  {
   "cell_type": "code",
   "execution_count": null,
   "metadata": {},
   "outputs": [],
   "source": []
  },
  {
   "cell_type": "code",
   "execution_count": null,
   "metadata": {},
   "outputs": [],
   "source": []
  },
  {
   "cell_type": "code",
   "execution_count": 167,
   "metadata": {},
   "outputs": [
    {
     "name": "stdout",
     "output_type": "stream",
     "text": [
      "<class 'pandas.core.frame.DataFrame'>\n",
      "DatetimeIndex: 100 entries, 2020-07-02 to 2020-11-20\n",
      "Data columns (total 21 columns):\n",
      " #   Column                      Non-Null Count  Dtype  \n",
      "---  ------                      --------------  -----  \n",
      " 0   Open                        100 non-null    float64\n",
      " 1   High                        100 non-null    float64\n",
      " 2   Low                         100 non-null    float64\n",
      " 3   Last                        100 non-null    float64\n",
      " 4   Change                      100 non-null    float64\n",
      " 5   Settle                      100 non-null    float64\n",
      " 6   Volume                      100 non-null    float64\n",
      " 7   Previous Day Open Interest  100 non-null    float64\n",
      " 8   EMA10                       100 non-null    float64\n",
      " 9   EMA30                       100 non-null    float64\n",
      " 10  ATR                         100 non-null    float64\n",
      " 11  ADX                         100 non-null    float64\n",
      " 12  RSI                         100 non-null    float64\n",
      " 13  MACD                        100 non-null    float64\n",
      " 14  MACDsignal                  100 non-null    float64\n",
      " 15  ClgtEMA10                   100 non-null    int32  \n",
      " 16  EMA10gtEMA30                100 non-null    int32  \n",
      " 17  MACDSIGgtMACD               100 non-null    int32  \n",
      " 18  Return                      100 non-null    float64\n",
      " 19  target_cls                  100 non-null    int32  \n",
      " 20  target_rgs                  100 non-null    float64\n",
      "dtypes: float64(17), int32(4)\n",
      "memory usage: 15.6 KB\n"
     ]
    }
   ],
   "source": [
    "df1.info()"
   ]
  },
  {
   "cell_type": "code",
   "execution_count": 168,
   "metadata": {},
   "outputs": [
    {
     "data": {
      "text/plain": [
       "Date\n",
       "2020-11-16    0\n",
       "2020-11-17    0\n",
       "2020-11-18    1\n",
       "2020-11-19    0\n",
       "2020-11-20    1\n",
       "Name: target_cls, dtype: int32"
      ]
     },
     "execution_count": 168,
     "metadata": {},
     "output_type": "execute_result"
    }
   ],
   "source": [
    "y_cls = df1.target_cls\n",
    "y_cls.tail()"
   ]
  },
  {
   "cell_type": "code",
   "execution_count": 169,
   "metadata": {},
   "outputs": [
    {
     "data": {
      "text/plain": [
       "Date\n",
       "2020-11-16   -0.004358\n",
       "2020-11-17   -0.011672\n",
       "2020-11-18    0.004218\n",
       "2020-11-19   -0.007280\n",
       "2020-11-20    0.006205\n",
       "Name: target_rgs, dtype: float64"
      ]
     },
     "execution_count": 169,
     "metadata": {},
     "output_type": "execute_result"
    }
   ],
   "source": [
    "y_rgs = df1.target_rgs\n",
    "y_rgs.tail()"
   ]
  },
  {
   "cell_type": "code",
   "execution_count": 170,
   "metadata": {},
   "outputs": [
    {
     "name": "stdout",
     "output_type": "stream",
     "text": [
      "(70, 6) (70,)\n",
      "(30, 6) (30,)\n"
     ]
    }
   ],
   "source": [
    "from sklearn.model_selection import train_test_split\n",
    "y=y_cls\n",
    "X_cls_train, X_cls_test, y_cls_train, y_cls_test = train_test_split(X, y, test_size=0.3, random_state=432, stratify=y)\n",
    "\n",
    "print (X_cls_train.shape, y_cls_train.shape)\n",
    "print (X_cls_test.shape, y_cls_test.shape)"
   ]
  },
  {
   "cell_type": "code",
   "execution_count": 171,
   "metadata": {},
   "outputs": [
    {
     "name": "stdout",
     "output_type": "stream",
     "text": [
      "(100, 6) (100,)\n",
      "(0, 6) (0,)\n"
     ]
    }
   ],
   "source": [
    "train_length = int(len(df)*0.70)\n",
    "X_rgs_train = X[:train_length]\n",
    "X_rgs_test = X[train_length:]\n",
    "y_rgs_train = y_rgs[:train_length]\n",
    "y_rgs_test = y_rgs[train_length:]\n",
    "\n",
    "print (X_rgs_train.shape, y_rgs_train.shape)\n",
    "print (X_rgs_test.shape, y_rgs_test.shape)"
   ]
  },
  {
   "cell_type": "code",
   "execution_count": 172,
   "metadata": {},
   "outputs": [
    {
     "data": {
      "text/html": [
       "<style>#sk-container-id-8 {color: black;background-color: white;}#sk-container-id-8 pre{padding: 0;}#sk-container-id-8 div.sk-toggleable {background-color: white;}#sk-container-id-8 label.sk-toggleable__label {cursor: pointer;display: block;width: 100%;margin-bottom: 0;padding: 0.3em;box-sizing: border-box;text-align: center;}#sk-container-id-8 label.sk-toggleable__label-arrow:before {content: \"▸\";float: left;margin-right: 0.25em;color: #696969;}#sk-container-id-8 label.sk-toggleable__label-arrow:hover:before {color: black;}#sk-container-id-8 div.sk-estimator:hover label.sk-toggleable__label-arrow:before {color: black;}#sk-container-id-8 div.sk-toggleable__content {max-height: 0;max-width: 0;overflow: hidden;text-align: left;background-color: #f0f8ff;}#sk-container-id-8 div.sk-toggleable__content pre {margin: 0.2em;color: black;border-radius: 0.25em;background-color: #f0f8ff;}#sk-container-id-8 input.sk-toggleable__control:checked~div.sk-toggleable__content {max-height: 200px;max-width: 100%;overflow: auto;}#sk-container-id-8 input.sk-toggleable__control:checked~label.sk-toggleable__label-arrow:before {content: \"▾\";}#sk-container-id-8 div.sk-estimator input.sk-toggleable__control:checked~label.sk-toggleable__label {background-color: #d4ebff;}#sk-container-id-8 div.sk-label input.sk-toggleable__control:checked~label.sk-toggleable__label {background-color: #d4ebff;}#sk-container-id-8 input.sk-hidden--visually {border: 0;clip: rect(1px 1px 1px 1px);clip: rect(1px, 1px, 1px, 1px);height: 1px;margin: -1px;overflow: hidden;padding: 0;position: absolute;width: 1px;}#sk-container-id-8 div.sk-estimator {font-family: monospace;background-color: #f0f8ff;border: 1px dotted black;border-radius: 0.25em;box-sizing: border-box;margin-bottom: 0.5em;}#sk-container-id-8 div.sk-estimator:hover {background-color: #d4ebff;}#sk-container-id-8 div.sk-parallel-item::after {content: \"\";width: 100%;border-bottom: 1px solid gray;flex-grow: 1;}#sk-container-id-8 div.sk-label:hover label.sk-toggleable__label {background-color: #d4ebff;}#sk-container-id-8 div.sk-serial::before {content: \"\";position: absolute;border-left: 1px solid gray;box-sizing: border-box;top: 0;bottom: 0;left: 50%;z-index: 0;}#sk-container-id-8 div.sk-serial {display: flex;flex-direction: column;align-items: center;background-color: white;padding-right: 0.2em;padding-left: 0.2em;position: relative;}#sk-container-id-8 div.sk-item {position: relative;z-index: 1;}#sk-container-id-8 div.sk-parallel {display: flex;align-items: stretch;justify-content: center;background-color: white;position: relative;}#sk-container-id-8 div.sk-item::before, #sk-container-id-8 div.sk-parallel-item::before {content: \"\";position: absolute;border-left: 1px solid gray;box-sizing: border-box;top: 0;bottom: 0;left: 50%;z-index: -1;}#sk-container-id-8 div.sk-parallel-item {display: flex;flex-direction: column;z-index: 1;position: relative;background-color: white;}#sk-container-id-8 div.sk-parallel-item:first-child::after {align-self: flex-end;width: 50%;}#sk-container-id-8 div.sk-parallel-item:last-child::after {align-self: flex-start;width: 50%;}#sk-container-id-8 div.sk-parallel-item:only-child::after {width: 0;}#sk-container-id-8 div.sk-dashed-wrapped {border: 1px dashed gray;margin: 0 0.4em 0.5em 0.4em;box-sizing: border-box;padding-bottom: 0.4em;background-color: white;}#sk-container-id-8 div.sk-label label {font-family: monospace;font-weight: bold;display: inline-block;line-height: 1.2em;}#sk-container-id-8 div.sk-label-container {text-align: center;}#sk-container-id-8 div.sk-container {/* jupyter's `normalize.less` sets `[hidden] { display: none; }` but bootstrap.min.css set `[hidden] { display: none !important; }` so we also need the `!important` here to be able to override the default hidden behavior on the sphinx rendered scikit-learn.org. See: https://github.com/scikit-learn/scikit-learn/issues/21755 */display: inline-block !important;position: relative;}#sk-container-id-8 div.sk-text-repr-fallback {display: none;}</style><div id=\"sk-container-id-8\" class=\"sk-top-container\"><div class=\"sk-text-repr-fallback\"><pre>DecisionTreeClassifier(max_depth=3, min_samples_leaf=6)</pre><b>In a Jupyter environment, please rerun this cell to show the HTML representation or trust the notebook. <br />On GitHub, the HTML representation is unable to render, please try loading this page with nbviewer.org.</b></div><div class=\"sk-container\" hidden><div class=\"sk-item\"><div class=\"sk-estimator sk-toggleable\"><input class=\"sk-toggleable__control sk-hidden--visually\" id=\"sk-estimator-id-8\" type=\"checkbox\" checked><label for=\"sk-estimator-id-8\" class=\"sk-toggleable__label sk-toggleable__label-arrow\">DecisionTreeClassifier</label><div class=\"sk-toggleable__content\"><pre>DecisionTreeClassifier(max_depth=3, min_samples_leaf=6)</pre></div></div></div></div></div>"
      ],
      "text/plain": [
       "DecisionTreeClassifier(max_depth=3, min_samples_leaf=6)"
      ]
     },
     "execution_count": 172,
     "metadata": {},
     "output_type": "execute_result"
    }
   ],
   "source": [
    "from sklearn.tree import DecisionTreeClassifier\n",
    "clf = DecisionTreeClassifier(criterion='gini', max_depth=3, min_samples_leaf=6)\n",
    "clf"
   ]
  },
  {
   "cell_type": "code",
   "execution_count": 173,
   "metadata": {},
   "outputs": [
    {
     "data": {
      "text/html": [
       "<style>#sk-container-id-9 {color: black;background-color: white;}#sk-container-id-9 pre{padding: 0;}#sk-container-id-9 div.sk-toggleable {background-color: white;}#sk-container-id-9 label.sk-toggleable__label {cursor: pointer;display: block;width: 100%;margin-bottom: 0;padding: 0.3em;box-sizing: border-box;text-align: center;}#sk-container-id-9 label.sk-toggleable__label-arrow:before {content: \"▸\";float: left;margin-right: 0.25em;color: #696969;}#sk-container-id-9 label.sk-toggleable__label-arrow:hover:before {color: black;}#sk-container-id-9 div.sk-estimator:hover label.sk-toggleable__label-arrow:before {color: black;}#sk-container-id-9 div.sk-toggleable__content {max-height: 0;max-width: 0;overflow: hidden;text-align: left;background-color: #f0f8ff;}#sk-container-id-9 div.sk-toggleable__content pre {margin: 0.2em;color: black;border-radius: 0.25em;background-color: #f0f8ff;}#sk-container-id-9 input.sk-toggleable__control:checked~div.sk-toggleable__content {max-height: 200px;max-width: 100%;overflow: auto;}#sk-container-id-9 input.sk-toggleable__control:checked~label.sk-toggleable__label-arrow:before {content: \"▾\";}#sk-container-id-9 div.sk-estimator input.sk-toggleable__control:checked~label.sk-toggleable__label {background-color: #d4ebff;}#sk-container-id-9 div.sk-label input.sk-toggleable__control:checked~label.sk-toggleable__label {background-color: #d4ebff;}#sk-container-id-9 input.sk-hidden--visually {border: 0;clip: rect(1px 1px 1px 1px);clip: rect(1px, 1px, 1px, 1px);height: 1px;margin: -1px;overflow: hidden;padding: 0;position: absolute;width: 1px;}#sk-container-id-9 div.sk-estimator {font-family: monospace;background-color: #f0f8ff;border: 1px dotted black;border-radius: 0.25em;box-sizing: border-box;margin-bottom: 0.5em;}#sk-container-id-9 div.sk-estimator:hover {background-color: #d4ebff;}#sk-container-id-9 div.sk-parallel-item::after {content: \"\";width: 100%;border-bottom: 1px solid gray;flex-grow: 1;}#sk-container-id-9 div.sk-label:hover label.sk-toggleable__label {background-color: #d4ebff;}#sk-container-id-9 div.sk-serial::before {content: \"\";position: absolute;border-left: 1px solid gray;box-sizing: border-box;top: 0;bottom: 0;left: 50%;z-index: 0;}#sk-container-id-9 div.sk-serial {display: flex;flex-direction: column;align-items: center;background-color: white;padding-right: 0.2em;padding-left: 0.2em;position: relative;}#sk-container-id-9 div.sk-item {position: relative;z-index: 1;}#sk-container-id-9 div.sk-parallel {display: flex;align-items: stretch;justify-content: center;background-color: white;position: relative;}#sk-container-id-9 div.sk-item::before, #sk-container-id-9 div.sk-parallel-item::before {content: \"\";position: absolute;border-left: 1px solid gray;box-sizing: border-box;top: 0;bottom: 0;left: 50%;z-index: -1;}#sk-container-id-9 div.sk-parallel-item {display: flex;flex-direction: column;z-index: 1;position: relative;background-color: white;}#sk-container-id-9 div.sk-parallel-item:first-child::after {align-self: flex-end;width: 50%;}#sk-container-id-9 div.sk-parallel-item:last-child::after {align-self: flex-start;width: 50%;}#sk-container-id-9 div.sk-parallel-item:only-child::after {width: 0;}#sk-container-id-9 div.sk-dashed-wrapped {border: 1px dashed gray;margin: 0 0.4em 0.5em 0.4em;box-sizing: border-box;padding-bottom: 0.4em;background-color: white;}#sk-container-id-9 div.sk-label label {font-family: monospace;font-weight: bold;display: inline-block;line-height: 1.2em;}#sk-container-id-9 div.sk-label-container {text-align: center;}#sk-container-id-9 div.sk-container {/* jupyter's `normalize.less` sets `[hidden] { display: none; }` but bootstrap.min.css set `[hidden] { display: none !important; }` so we also need the `!important` here to be able to override the default hidden behavior on the sphinx rendered scikit-learn.org. See: https://github.com/scikit-learn/scikit-learn/issues/21755 */display: inline-block !important;position: relative;}#sk-container-id-9 div.sk-text-repr-fallback {display: none;}</style><div id=\"sk-container-id-9\" class=\"sk-top-container\"><div class=\"sk-text-repr-fallback\"><pre>DecisionTreeClassifier(max_depth=3, min_samples_leaf=6)</pre><b>In a Jupyter environment, please rerun this cell to show the HTML representation or trust the notebook. <br />On GitHub, the HTML representation is unable to render, please try loading this page with nbviewer.org.</b></div><div class=\"sk-container\" hidden><div class=\"sk-item\"><div class=\"sk-estimator sk-toggleable\"><input class=\"sk-toggleable__control sk-hidden--visually\" id=\"sk-estimator-id-9\" type=\"checkbox\" checked><label for=\"sk-estimator-id-9\" class=\"sk-toggleable__label sk-toggleable__label-arrow\">DecisionTreeClassifier</label><div class=\"sk-toggleable__content\"><pre>DecisionTreeClassifier(max_depth=3, min_samples_leaf=6)</pre></div></div></div></div></div>"
      ],
      "text/plain": [
       "DecisionTreeClassifier(max_depth=3, min_samples_leaf=6)"
      ]
     },
     "execution_count": 173,
     "metadata": {},
     "output_type": "execute_result"
    }
   ],
   "source": [
    "clf = clf.fit(X_cls_train, y_cls_train)\n",
    "clf"
   ]
  },
  {
   "cell_type": "code",
   "execution_count": 180,
   "metadata": {},
   "outputs": [
    {
     "data": {
      "text/plain": [
       "[Text(0.5416666666666666, 0.875, 'RSI <= 57.998\\ngini = 0.485\\nsamples = 70\\nvalue = [29, 41]'),\n",
       " Text(0.3333333333333333, 0.625, 'ADX <= 27.516\\ngini = 0.422\\nsamples = 33\\nvalue = [10, 23]'),\n",
       " Text(0.16666666666666666, 0.375, 'ATR <= 63.728\\ngini = 0.208\\nsamples = 17\\nvalue = [2, 15]'),\n",
       " Text(0.08333333333333333, 0.125, 'gini = 0.444\\nsamples = 6\\nvalue = [2, 4]'),\n",
       " Text(0.25, 0.125, 'gini = 0.0\\nsamples = 11\\nvalue = [0, 11]'),\n",
       " Text(0.5, 0.375, 'ATR <= 69.185\\ngini = 0.5\\nsamples = 16\\nvalue = [8, 8]'),\n",
       " Text(0.4166666666666667, 0.125, 'gini = 0.42\\nsamples = 10\\nvalue = [7, 3]'),\n",
       " Text(0.5833333333333334, 0.125, 'gini = 0.278\\nsamples = 6\\nvalue = [1, 5]'),\n",
       " Text(0.75, 0.625, 'RSI <= 59.384\\ngini = 0.5\\nsamples = 37\\nvalue = [19, 18]'),\n",
       " Text(0.6666666666666666, 0.375, 'gini = 0.278\\nsamples = 6\\nvalue = [5, 1]'),\n",
       " Text(0.8333333333333334, 0.375, 'RSI <= 64.455\\ngini = 0.495\\nsamples = 31\\nvalue = [14, 17]'),\n",
       " Text(0.75, 0.125, 'gini = 0.408\\nsamples = 14\\nvalue = [4, 10]'),\n",
       " Text(0.9166666666666666, 0.125, 'gini = 0.484\\nsamples = 17\\nvalue = [10, 7]')]"
      ]
     },
     "execution_count": 180,
     "metadata": {},
     "output_type": "execute_result"
    },
    {
     "data": {
      "image/png": "[encoded data removed]",
      "text/plain": [
       "<Figure size 640x480 with 1 Axes>"
      ]
     },
     "metadata": {},
     "output_type": "display_data"
    }
   ],
   "source": [
    "from sklearn import tree\n",
    "import graphviz\n",
    "tree.plot_tree(clf,filled=True,feature_names=predictors_list)\n"
   ]
  },
  {
   "cell_type": "code",
   "execution_count": 181,
   "metadata": {},
   "outputs": [],
   "source": [
    "y_cls_pred = clf.predict(X_cls_test)"
   ]
  },
  {
   "cell_type": "code",
   "execution_count": 190,
   "metadata": {},
   "outputs": [
    {
     "data": {
      "text/plain": [
       "Date\n",
       "2020-07-02    1\n",
       "2020-07-06    0\n",
       "2020-07-07    1\n",
       "2020-07-08    0\n",
       "2020-07-09    1\n",
       "             ..\n",
       "2020-11-16    0\n",
       "2020-11-17    0\n",
       "2020-11-18    1\n",
       "2020-11-19    0\n",
       "2020-11-20    1\n",
       "Name: target_cls, Length: 100, dtype: int32"
      ]
     },
     "execution_count": 190,
     "metadata": {},
     "output_type": "execute_result"
    }
   ],
   "source": [
    "y_cls"
   ]
  },
  {
   "cell_type": "code",
   "execution_count": 182,
   "metadata": {},
   "outputs": [
    {
     "name": "stdout",
     "output_type": "stream",
     "text": [
      "              precision    recall  f1-score   support\n",
      "\n",
      "           0       0.35      0.50      0.41        12\n",
      "           1       0.54      0.39      0.45        18\n",
      "\n",
      "    accuracy                           0.43        30\n",
      "   macro avg       0.45      0.44      0.43        30\n",
      "weighted avg       0.46      0.43      0.44        30\n",
      "\n"
     ]
    }
   ],
   "source": [
    "from sklearn.metrics import classification_report\n",
    "report = classification_report(y_cls_test, y_cls_pred)\n",
    "print(report)"
   ]
  },
  {
   "cell_type": "code",
   "execution_count": 183,
   "metadata": {},
   "outputs": [],
   "source": [
    "# Regression tree model\n",
    "from sklearn.tree import DecisionTreeRegressor\n",
    "dtr = DecisionTreeRegressor(min_samples_leaf = 200)"
   ]
  },
  {
   "cell_type": "code",
   "execution_count": 184,
   "metadata": {},
   "outputs": [
    {
     "data": {
      "text/html": [
       "<style>#sk-container-id-10 {color: black;background-color: white;}#sk-container-id-10 pre{padding: 0;}#sk-container-id-10 div.sk-toggleable {background-color: white;}#sk-container-id-10 label.sk-toggleable__label {cursor: pointer;display: block;width: 100%;margin-bottom: 0;padding: 0.3em;box-sizing: border-box;text-align: center;}#sk-container-id-10 label.sk-toggleable__label-arrow:before {content: \"▸\";float: left;margin-right: 0.25em;color: #696969;}#sk-container-id-10 label.sk-toggleable__label-arrow:hover:before {color: black;}#sk-container-id-10 div.sk-estimator:hover label.sk-toggleable__label-arrow:before {color: black;}#sk-container-id-10 div.sk-toggleable__content {max-height: 0;max-width: 0;overflow: hidden;text-align: left;background-color: #f0f8ff;}#sk-container-id-10 div.sk-toggleable__content pre {margin: 0.2em;color: black;border-radius: 0.25em;background-color: #f0f8ff;}#sk-container-id-10 input.sk-toggleable__control:checked~div.sk-toggleable__content {max-height: 200px;max-width: 100%;overflow: auto;}#sk-container-id-10 input.sk-toggleable__control:checked~label.sk-toggleable__label-arrow:before {content: \"▾\";}#sk-container-id-10 div.sk-estimator input.sk-toggleable__control:checked~label.sk-toggleable__label {background-color: #d4ebff;}#sk-container-id-10 div.sk-label input.sk-toggleable__control:checked~label.sk-toggleable__label {background-color: #d4ebff;}#sk-container-id-10 input.sk-hidden--visually {border: 0;clip: rect(1px 1px 1px 1px);clip: rect(1px, 1px, 1px, 1px);height: 1px;margin: -1px;overflow: hidden;padding: 0;position: absolute;width: 1px;}#sk-container-id-10 div.sk-estimator {font-family: monospace;background-color: #f0f8ff;border: 1px dotted black;border-radius: 0.25em;box-sizing: border-box;margin-bottom: 0.5em;}#sk-container-id-10 div.sk-estimator:hover {background-color: #d4ebff;}#sk-container-id-10 div.sk-parallel-item::after {content: \"\";width: 100%;border-bottom: 1px solid gray;flex-grow: 1;}#sk-container-id-10 div.sk-label:hover label.sk-toggleable__label {background-color: #d4ebff;}#sk-container-id-10 div.sk-serial::before {content: \"\";position: absolute;border-left: 1px solid gray;box-sizing: border-box;top: 0;bottom: 0;left: 50%;z-index: 0;}#sk-container-id-10 div.sk-serial {display: flex;flex-direction: column;align-items: center;background-color: white;padding-right: 0.2em;padding-left: 0.2em;position: relative;}#sk-container-id-10 div.sk-item {position: relative;z-index: 1;}#sk-container-id-10 div.sk-parallel {display: flex;align-items: stretch;justify-content: center;background-color: white;position: relative;}#sk-container-id-10 div.sk-item::before, #sk-container-id-10 div.sk-parallel-item::before {content: \"\";position: absolute;border-left: 1px solid gray;box-sizing: border-box;top: 0;bottom: 0;left: 50%;z-index: -1;}#sk-container-id-10 div.sk-parallel-item {display: flex;flex-direction: column;z-index: 1;position: relative;background-color: white;}#sk-container-id-10 div.sk-parallel-item:first-child::after {align-self: flex-end;width: 50%;}#sk-container-id-10 div.sk-parallel-item:last-child::after {align-self: flex-start;width: 50%;}#sk-container-id-10 div.sk-parallel-item:only-child::after {width: 0;}#sk-container-id-10 div.sk-dashed-wrapped {border: 1px dashed gray;margin: 0 0.4em 0.5em 0.4em;box-sizing: border-box;padding-bottom: 0.4em;background-color: white;}#sk-container-id-10 div.sk-label label {font-family: monospace;font-weight: bold;display: inline-block;line-height: 1.2em;}#sk-container-id-10 div.sk-label-container {text-align: center;}#sk-container-id-10 div.sk-container {/* jupyter's `normalize.less` sets `[hidden] { display: none; }` but bootstrap.min.css set `[hidden] { display: none !important; }` so we also need the `!important` here to be able to override the default hidden behavior on the sphinx rendered scikit-learn.org. See: https://github.com/scikit-learn/scikit-learn/issues/21755 */display: inline-block !important;position: relative;}#sk-container-id-10 div.sk-text-repr-fallback {display: none;}</style><div id=\"sk-container-id-10\" class=\"sk-top-container\"><div class=\"sk-text-repr-fallback\"><pre>DecisionTreeRegressor(min_samples_leaf=200)</pre><b>In a Jupyter environment, please rerun this cell to show the HTML representation or trust the notebook. <br />On GitHub, the HTML representation is unable to render, please try loading this page with nbviewer.org.</b></div><div class=\"sk-container\" hidden><div class=\"sk-item\"><div class=\"sk-estimator sk-toggleable\"><input class=\"sk-toggleable__control sk-hidden--visually\" id=\"sk-estimator-id-10\" type=\"checkbox\" checked><label for=\"sk-estimator-id-10\" class=\"sk-toggleable__label sk-toggleable__label-arrow\">DecisionTreeRegressor</label><div class=\"sk-toggleable__content\"><pre>DecisionTreeRegressor(min_samples_leaf=200)</pre></div></div></div></div></div>"
      ],
      "text/plain": [
       "DecisionTreeRegressor(min_samples_leaf=200)"
      ]
     },
     "execution_count": 184,
     "metadata": {},
     "output_type": "execute_result"
    }
   ],
   "source": [
    "dtr.fit(X_rgs_train, y_rgs_train)"
   ]
  },
  {
   "cell_type": "code",
   "execution_count": 187,
   "metadata": {},
   "outputs": [
    {
     "data": {
      "text/html": [
       "<div>\n",
       "<style scoped>\n",
       "    .dataframe tbody tr th:only-of-type {\n",
       "        vertical-align: middle;\n",
       "    }\n",
       "\n",
       "    .dataframe tbody tr th {\n",
       "        vertical-align: top;\n",
       "    }\n",
       "\n",
       "    .dataframe thead th {\n",
       "        text-align: right;\n",
       "    }\n",
       "</style>\n",
       "<table border=\"1\" class=\"dataframe\">\n",
       "  <thead>\n",
       "    <tr style=\"text-align: right;\">\n",
       "      <th></th>\n",
       "      <th>ATR</th>\n",
       "      <th>ADX</th>\n",
       "      <th>RSI</th>\n",
       "      <th>ClgtEMA10</th>\n",
       "      <th>EMA10gtEMA30</th>\n",
       "      <th>MACDSIGgtMACD</th>\n",
       "    </tr>\n",
       "    <tr>\n",
       "      <th>Date</th>\n",
       "      <th></th>\n",
       "      <th></th>\n",
       "      <th></th>\n",
       "      <th></th>\n",
       "      <th></th>\n",
       "      <th></th>\n",
       "    </tr>\n",
       "  </thead>\n",
       "  <tbody>\n",
       "    <tr>\n",
       "      <th>2020-07-02</th>\n",
       "      <td>77.822095</td>\n",
       "      <td>12.126881</td>\n",
       "      <td>56.896460</td>\n",
       "      <td>1</td>\n",
       "      <td>1</td>\n",
       "      <td>1</td>\n",
       "    </tr>\n",
       "    <tr>\n",
       "      <th>2020-07-06</th>\n",
       "      <td>77.138374</td>\n",
       "      <td>12.189551</td>\n",
       "      <td>60.398468</td>\n",
       "      <td>1</td>\n",
       "      <td>1</td>\n",
       "      <td>1</td>\n",
       "    </tr>\n",
       "    <tr>\n",
       "      <th>2020-07-07</th>\n",
       "      <td>75.253491</td>\n",
       "      <td>12.391669</td>\n",
       "      <td>56.329496</td>\n",
       "      <td>1</td>\n",
       "      <td>1</td>\n",
       "      <td>1</td>\n",
       "    </tr>\n",
       "    <tr>\n",
       "      <th>2020-07-08</th>\n",
       "      <td>72.699670</td>\n",
       "      <td>12.424685</td>\n",
       "      <td>58.593155</td>\n",
       "      <td>1</td>\n",
       "      <td>1</td>\n",
       "      <td>-1</td>\n",
       "    </tr>\n",
       "    <tr>\n",
       "      <th>2020-07-09</th>\n",
       "      <td>72.149693</td>\n",
       "      <td>12.036989</td>\n",
       "      <td>55.993296</td>\n",
       "      <td>1</td>\n",
       "      <td>1</td>\n",
       "      <td>-1</td>\n",
       "    </tr>\n",
       "    <tr>\n",
       "      <th>...</th>\n",
       "      <td>...</td>\n",
       "      <td>...</td>\n",
       "      <td>...</td>\n",
       "      <td>...</td>\n",
       "      <td>...</td>\n",
       "      <td>...</td>\n",
       "    </tr>\n",
       "    <tr>\n",
       "      <th>2020-11-16</th>\n",
       "      <td>74.090807</td>\n",
       "      <td>25.102841</td>\n",
       "      <td>67.075196</td>\n",
       "      <td>1</td>\n",
       "      <td>1</td>\n",
       "      <td>-1</td>\n",
       "    </tr>\n",
       "    <tr>\n",
       "      <th>2020-11-17</th>\n",
       "      <td>71.941463</td>\n",
       "      <td>25.763853</td>\n",
       "      <td>64.948620</td>\n",
       "      <td>1</td>\n",
       "      <td>1</td>\n",
       "      <td>-1</td>\n",
       "    </tr>\n",
       "    <tr>\n",
       "      <th>2020-11-18</th>\n",
       "      <td>71.534930</td>\n",
       "      <td>25.823450</td>\n",
       "      <td>59.528632</td>\n",
       "      <td>1</td>\n",
       "      <td>1</td>\n",
       "      <td>-1</td>\n",
       "    </tr>\n",
       "    <tr>\n",
       "      <th>2020-11-19</th>\n",
       "      <td>69.282435</td>\n",
       "      <td>25.591419</td>\n",
       "      <td>60.787218</td>\n",
       "      <td>1</td>\n",
       "      <td>1</td>\n",
       "      <td>-1</td>\n",
       "    </tr>\n",
       "    <tr>\n",
       "      <th>2020-11-20</th>\n",
       "      <td>67.190833</td>\n",
       "      <td>25.365461</td>\n",
       "      <td>57.452127</td>\n",
       "      <td>1</td>\n",
       "      <td>1</td>\n",
       "      <td>-1</td>\n",
       "    </tr>\n",
       "  </tbody>\n",
       "</table>\n",
       "<p>100 rows × 6 columns</p>\n",
       "</div>"
      ],
      "text/plain": [
       "                  ATR        ADX        RSI  ClgtEMA10  EMA10gtEMA30  \\\n",
       "Date                                                                   \n",
       "2020-07-02  77.822095  12.126881  56.896460          1             1   \n",
       "2020-07-06  77.138374  12.189551  60.398468          1             1   \n",
       "2020-07-07  75.253491  12.391669  56.329496          1             1   \n",
       "2020-07-08  72.699670  12.424685  58.593155          1             1   \n",
       "2020-07-09  72.149693  12.036989  55.993296          1             1   \n",
       "...               ...        ...        ...        ...           ...   \n",
       "2020-11-16  74.090807  25.102841  67.075196          1             1   \n",
       "2020-11-17  71.941463  25.763853  64.948620          1             1   \n",
       "2020-11-18  71.534930  25.823450  59.528632          1             1   \n",
       "2020-11-19  69.282435  25.591419  60.787218          1             1   \n",
       "2020-11-20  67.190833  25.365461  57.452127          1             1   \n",
       "\n",
       "            MACDSIGgtMACD  \n",
       "Date                       \n",
       "2020-07-02              1  \n",
       "2020-07-06              1  \n",
       "2020-07-07              1  \n",
       "2020-07-08             -1  \n",
       "2020-07-09             -1  \n",
       "...                   ...  \n",
       "2020-11-16             -1  \n",
       "2020-11-17             -1  \n",
       "2020-11-18             -1  \n",
       "2020-11-19             -1  \n",
       "2020-11-20             -1  \n",
       "\n",
       "[100 rows x 6 columns]"
      ]
     },
     "execution_count": 187,
     "metadata": {},
     "output_type": "execute_result"
    }
   ],
   "source": [
    "X_rgs_train"
   ]
  },
  {
   "cell_type": "code",
   "execution_count": 186,
   "metadata": {},
   "outputs": [
    {
     "data": {
      "text/plain": [
       "[Text(0.5, 0.5, 'squared_error = 0.0\\nsamples = 100\\nvalue = 0.001')]"
      ]
     },
     "execution_count": 186,
     "metadata": {},
     "output_type": "execute_result"
    },
    {
     "data": {
      "image/png": "[encoded data removed]",
      "text/plain": [
       "<Figure size 640x480 with 1 Axes>"
      ]
     },
     "metadata": {},
     "output_type": "display_data"
    }
   ],
   "source": [
    "from sklearn import tree\n",
    "\n",
    "tree.plot_tree(dtr,filled=True,feature_names=predictors_list)\n"
   ]
  },
  {
   "cell_type": "code",
   "execution_count": 194,
   "metadata": {},
   "outputs": [
    {
     "ename": "ModuleNotFoundError",
     "evalue": "No module named 'zipline'",
     "output_type": "error",
     "traceback": [
      "\u001b[1;31m---------------------------------------------------------------------------\u001b[0m",
      "\u001b[1;31mModuleNotFoundError\u001b[0m                       Traceback (most recent call last)",
      "Cell \u001b[1;32mIn[194], line 14\u001b[0m\n\u001b[0;32m     11\u001b[0m \u001b[39mimport\u001b[39;00m \u001b[39mpandas_datareader\u001b[39;00m\u001b[39m.\u001b[39;00m\u001b[39mdata\u001b[39;00m \u001b[39mas\u001b[39;00m \u001b[39mweb\u001b[39;00m\n\u001b[0;32m     12\u001b[0m \u001b[39mfrom\u001b[39;00m \u001b[39mlogbook\u001b[39;00m \u001b[39mimport\u001b[39;00m Logger, StderrHandler, INFO\n\u001b[1;32m---> 14\u001b[0m \u001b[39mfrom\u001b[39;00m \u001b[39mzipline\u001b[39;00m \u001b[39mimport\u001b[39;00m run_algorithm\n\u001b[0;32m     15\u001b[0m \u001b[39mfrom\u001b[39;00m \u001b[39mzipline\u001b[39;00m\u001b[39m.\u001b[39;00m\u001b[39mapi\u001b[39;00m \u001b[39mimport\u001b[39;00m (attach_pipeline, pipeline_output,\n\u001b[0;32m     16\u001b[0m                          date_rules, time_rules, record,\n\u001b[0;32m     17\u001b[0m                          schedule_function, commission, slippage,\n\u001b[0;32m     18\u001b[0m                          set_slippage, set_commission,\n\u001b[0;32m     19\u001b[0m                          get_open_orders, cancel_order,\n\u001b[0;32m     20\u001b[0m                          order_target, order_target_percent)\n\u001b[0;32m     21\u001b[0m \u001b[39mfrom\u001b[39;00m \u001b[39mzipline\u001b[39;00m\u001b[39m.\u001b[39;00m\u001b[39mdata\u001b[39;00m \u001b[39mimport\u001b[39;00m bundles\n",
      "\u001b[1;31mModuleNotFoundError\u001b[0m: No module named 'zipline'"
     ]
    }
   ],
   "source": [
    "\n",
    "from pathlib import Path\n",
    "from collections import defaultdict\n",
    "from time import time\n",
    "\n",
    "import numpy as np\n",
    "import pandas as pd\n",
    "import seaborn as sns\n",
    "import matplotlib.pyplot as plt\n",
    "import pandas_datareader.data as web\n",
    "from logbook import Logger, StderrHandler, INFO\n",
    "\n",
    "from zipline import run_algorithm\n",
    "from zipline.api import (attach_pipeline, pipeline_output,\n",
    "                         date_rules, time_rules, record,\n",
    "                         schedule_function, commission, slippage,\n",
    "                         set_slippage, set_commission,\n",
    "                         get_open_orders, cancel_order,\n",
    "                         order_target, order_target_percent)\n",
    "from zipline.data import bundles\n",
    "from zipline.utils.run_algo import load_extensions\n",
    "from zipline.pipeline import Pipeline, CustomFactor\n",
    "from zipline.pipeline.data import Column, DataSet\n",
    "from zipline.pipeline.domain import JP_EQUITIES\n",
    "from zipline.pipeline.filters import StaticAssets\n",
    "from zipline.pipeline.loaders.frame import DataFrameLoader\n",
    "\n",
    "import pyfolio as pf\n",
    "from pyfolio.plotting import plot_rolling_returns, plot_rolling_sharpe\n",
    "from pyfolio.timeseries import forecast_cone_bootstrap"
   ]
  },
  {
   "cell_type": "code",
   "execution_count": null,
   "metadata": {},
   "outputs": [],
   "source": [
    "idx = pd.IndexSlice\n",
    "sns.set_style('whitegrid')\n",
    "np.random.seed(42)"
   ]
  },
  {
   "cell_type": "code",
   "execution_count": null,
   "metadata": {},
   "outputs": [],
   "source": [
    "results_path = Path('results', 'return_predictions')\n",
    "if not results_path.exists():\n",
    "    results_path.mkdir(parents=True)"
   ]
  },
  {
   "cell_type": "code",
   "execution_count": null,
   "metadata": {},
   "outputs": [],
   "source": [
    "load_extensions(default=True,\n",
    "                extensions=[],\n",
    "                strict=True,\n",
    "                environ=None)"
   ]
  },
  {
   "cell_type": "code",
   "execution_count": null,
   "metadata": {},
   "outputs": [],
   "source": [
    "log_handler = StderrHandler(format_string='[{record.time:%Y-%m-%d %H:%M:%S.%f}]: ' +\n",
    "                            '{record.level_name}: {record.func_name}: {record.message}',\n",
    "                            level=INFO)\n",
    "log_handler.push_application()\n",
    "log = Logger('Algorithm')"
   ]
  },
  {
   "cell_type": "code",
   "execution_count": null,
   "metadata": {},
   "outputs": [],
   "source": [
    "N_LONGS = 25\n",
    "N_SHORTS = 25\n",
    "MIN_POSITIONS = 15"
   ]
  },
  {
   "cell_type": "code",
   "execution_count": null,
   "metadata": {},
   "outputs": [],
   "source": [
    "bundle_data = bundles.load('stooq')"
   ]
  },
  {
   "cell_type": "code",
   "execution_count": null,
   "metadata": {},
   "outputs": [],
   "source": [
    "\n",
    "def load_predictions(bundle):\n",
    "    t = 1\n",
    "    df = pd.concat([pd.read_hdf(results_path / 'predictions.h5', 'train/{:02}'.format(t)),\n",
    "                    pd.read_hdf(results_path / 'predictions.h5', 'test/{:02}'.format(t))])\n",
    "    df = df[~df.index.duplicated()].drop('y_test', axis=1)\n",
    "    predictions = df.iloc[:, :5].mean(1).to_frame('predictions')\n",
    "\n",
    "    tickers = predictions.index.get_level_values('ticker').unique().tolist()\n",
    "\n",
    "    assets = bundle.asset_finder.lookup_symbols(tickers, as_of_date=None)\n",
    "    predicted_sids = pd.Int64Index([asset.sid for asset in assets])\n",
    "    ticker_map = dict(zip(tickers, predicted_sids))\n",
    "\n",
    "    return (predictions\n",
    "            .unstack('ticker')\n",
    "            .rename(columns=ticker_map)\n",
    "            .predictions\n",
    "            .tz_localize('UTC')), assets"
   ]
  },
  {
   "cell_type": "code",
   "execution_count": null,
   "metadata": {},
   "outputs": [],
   "source": [
    "predictions, assets = load_predictions(bundle_data)"
   ]
  },
  {
   "cell_type": "code",
   "execution_count": null,
   "metadata": {},
   "outputs": [],
   "source": [
    "predictions.info()"
   ]
  },
  {
   "cell_type": "code",
   "execution_count": null,
   "metadata": {},
   "outputs": [],
   "source": [
    "class SignalData(DataSet):\n",
    "    predictions = Column(dtype=float)\n",
    "    domain = JP_EQUITIES"
   ]
  },
  {
   "cell_type": "code",
   "execution_count": null,
   "metadata": {},
   "outputs": [],
   "source": [
    "signal_loader = {SignalData.predictions:\n",
    "                 DataFrameLoader(SignalData.predictions, predictions)}"
   ]
  },
  {
   "cell_type": "code",
   "execution_count": null,
   "metadata": {},
   "outputs": [],
   "source": [
    "class MLSignal(CustomFactor):\n",
    "    \"\"\"Converting signals to Factor\n",
    "        so we can rank and filter in Pipeline\"\"\"\n",
    "    inputs = [SignalData.predictions]\n",
    "    window_length = 1\n",
    "\n",
    "    def compute(self, today, assets, out, preds):\n",
    "        out[:] = preds"
   ]
  },
  {
   "cell_type": "code",
   "execution_count": null,
   "metadata": {},
   "outputs": [],
   "source": [
    "def compute_signals():\n",
    "    signals = MLSignal()\n",
    "    predictions = SignalData.predictions.latest\n",
    "    return Pipeline(columns={\n",
    "        'longs': signals.top(N_LONGS, mask=signals > 0),\n",
    "        'shorts': signals.bottom(N_SHORTS, mask=signals < 0)},\n",
    "        screen=StaticAssets(assets)\n",
    "    )"
   ]
  },
  {
   "cell_type": "code",
   "execution_count": null,
   "metadata": {},
   "outputs": [],
   "source": [
    "def initialize(context):\n",
    "    \"\"\"\n",
    "    Called once at the start of the algorithm.\n",
    "    \"\"\"\n",
    "    context.n_longs = N_LONGS\n",
    "    context.n_shorts = N_SHORTS\n",
    "    context.min_positions = MIN_POSITIONS\n",
    "    context.universe = assets\n",
    "    context.trades = pd.Series()\n",
    "\n",
    "    set_slippage(slippage.FixedSlippage(spread=0.00))\n",
    "    set_commission(commission.PerShare(cost=0.05, min_trade_cost=1))\n",
    "\n",
    "    schedule_function(rebalance,\n",
    "                      date_rules.every_day(),\n",
    "                      time_rules.market_open(hours=1, minutes=30))\n",
    "\n",
    "    schedule_function(record_vars,\n",
    "                      date_rules.every_day(),\n",
    "                      time_rules.market_close())\n",
    "\n",
    "    pipeline = compute_signals()\n",
    "    attach_pipeline(pipeline, 'signals')"
   ]
  },
  {
   "cell_type": "code",
   "execution_count": null,
   "metadata": {},
   "outputs": [],
   "source": [
    "def before_trading_start(context, data):\n",
    "    \"\"\"\n",
    "    Called every day before market open.\n",
    "    \"\"\"\n",
    "    output = pipeline_output('signals')\n",
    "    context.trades = (output['longs'].astype(int)\n",
    "                      .append(output['shorts'].astype(int).mul(-1))\n",
    "                      .reset_index()\n",
    "                      .drop_duplicates()\n",
    "                      .set_index('index')\n",
    "                      .squeeze())"
   ]
  },
  {
   "cell_type": "code",
   "execution_count": null,
   "metadata": {},
   "outputs": [],
   "source": [
    "\n",
    "def rebalance(context, data):\n",
    "    \"\"\"\n",
    "    Execute orders according to schedule_function() date & time rules.\n",
    "    \"\"\"\n",
    "    trades = defaultdict(list)\n",
    "    for symbol, open_orders in get_open_orders().items():\n",
    "        for open_order in open_orders:\n",
    "            cancel_order(open_order)\n",
    "\n",
    "    positions = context.portfolio.positions\n",
    "    s = (pd.Series({s: v.amount*v.last_sale_price for s,\n",
    "                    v in positions.items()})\n",
    "         .sort_values(ascending=False))\n",
    "    \n",
    "    for stock, trade in context.trades.items():\n",
    "        if trade == 0:\n",
    "            order_target(stock, target=0)\n",
    "        else:\n",
    "            trades[trade].append(stock)\n",
    "\n",
    "    context.longs, context.shorts = len(trades[1]), len(trades[-1])\n",
    "    if context.longs > context.min_positions and context.shorts > context.min_positions:\n",
    "        for stock in trades[-1]:\n",
    "            order_target_percent(stock, -1 / context.shorts)\n",
    "        for stock in trades[1]:\n",
    "            order_target_percent(stock, 1 / context.longs)\n",
    "    else:\n",
    "        for stock in trades[-1] + trades[1]:\n",
    "            if stock in positions:\n",
    "                order_target(stock, 0)"
   ]
  },
  {
   "cell_type": "code",
   "execution_count": null,
   "metadata": {},
   "outputs": [],
   "source": [
    "def record_vars(context, data):\n",
    "    \"\"\"\n",
    "    Plot variables at the end of each day.\n",
    "    \"\"\"\n",
    "    record(leverage=context.account.leverage,\n",
    "           longs=context.longs,\n",
    "           shorts=context.shorts)"
   ]
  },
  {
   "cell_type": "code",
   "execution_count": null,
   "metadata": {},
   "outputs": [],
   "source": [
    "dates = predictions.index.get_level_values('date')\n",
    "start_date = dates.min() + pd.DateOffset(day=1)\n",
    "end_date = dates.max()"
   ]
  },
  {
   "cell_type": "code",
   "execution_count": null,
   "metadata": {},
   "outputs": [],
   "source": [
    "print('Start:\\t{}\\nEnd:\\t{}'.format(start_date.date(), end_date.date()))"
   ]
  },
  {
   "cell_type": "code",
   "execution_count": null,
   "metadata": {},
   "outputs": [],
   "source": [
    "start = time()\n",
    "results = run_algorithm(start=start_date,\n",
    "                        end=end_date,\n",
    "                        initialize=initialize,\n",
    "                        before_trading_start=before_trading_start,\n",
    "                        capital_base=1e6,\n",
    "                        data_frequency='daily',\n",
    "                        bundle='stooq',\n",
    "                        custom_loader=signal_loader)# need to modify zipline\n",
    "\n",
    "print('Duration: {:.2f}s'.format(time() - start))"
   ]
  },
  {
   "cell_type": "code",
   "execution_count": null,
   "metadata": {},
   "outputs": [],
   "source": [
    "returns, positions, transactions = pf.utils.extract_rets_pos_txn_from_zipline(results)\n"
   ]
  },
  {
   "cell_type": "code",
   "execution_count": null,
   "metadata": {},
   "outputs": [],
   "source": [
    "benchmark = web.DataReader('NIKKEI225', \n",
    "                           'fred', \n",
    "                           start='2015', \n",
    "                           end='2020').squeeze()\n",
    "benchmark = benchmark.pct_change().tz_localize('UTC')"
   ]
  },
  {
   "cell_type": "code",
   "execution_count": null,
   "metadata": {},
   "outputs": [],
   "source": [
    "\n",
    "fig, axes = plt.subplots(ncols=2, figsize=(16, 5))\n",
    "plot_rolling_returns(returns,\n",
    "                     factor_returns=benchmark,\n",
    "                     live_start_date='2018-01-01',\n",
    "                     logy=False,\n",
    "                     cone_std=2,\n",
    "                     legend_loc='best',\n",
    "                     volatility_match=False,\n",
    "                     cone_function=forecast_cone_bootstrap,\n",
    "                    ax=axes[0])\n",
    "plot_rolling_sharpe(returns, ax=axes[1], rolling_window=63)\n",
    "axes[0].set_title('Cumulative Returns - In and Out-of-Sample')\n",
    "axes[1].set_title('Rolling Sharpe Ratio (3 Months)')\n",
    "fig.tight_layout()\n",
    "fig.savefig((results_path / 'pyfolio_out_of_sample').as_posix(), dpi=300);"
   ]
  },
  {
   "cell_type": "code",
   "execution_count": null,
   "metadata": {},
   "outputs": [],
   "source": [
    "\n",
    "pf.create_full_tear_sheet(returns, \n",
    "                          positions=positions, \n",
    "                          transactions=transactions,\n",
    "                          benchmark_rets=benchmark,\n",
    "                          live_start_date='2018-01-01', \n",
    "                          round_trips=True)"
   ]
  }
 ],
 "metadata": {
  "kernelspec": {
   "display_name": "Python 3",
   "language": "python",
   "name": "python3"
  },
  "language_info": {
   "codemirror_mode": {
    "name": "ipython",
    "version": 3
   },
   "file_extension": ".py",
   "mimetype": "text/x-python",
   "name": "python",
   "nbconvert_exporter": "python",
   "pygments_lexer": "ipython3",
   "version": "3.10.4"
  },
  "orig_nbformat": 4
 },
 "nbformat": 4,
 "nbformat_minor": 2
}
