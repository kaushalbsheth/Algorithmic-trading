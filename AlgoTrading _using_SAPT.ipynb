{
 "cells": [
  {
   "cell_type": "code",
   "execution_count": 2,
   "metadata": {},
   "outputs": [],
   "source": [
    "import backtrader as bt\n",
    "import pandas as pd\n",
    "import numpy as np\n",
    "import quandl\n",
    "from sklearn.model_selection import train_test_split\n",
    "from sklearn.svm import SVC\n",
    "from sklearn.metrics import accuracy_score\n",
    "\n",
    "# Set your Quandl API key\n",
    "quandl.ApiConfig.api_key = \"vJSxz6aLFGy93K1pDtzx\"\n",
    "\n",
    "# Define the two securities you want to trade\n",
    "security1 = \"AAPL\"\n",
    "security2 = \"MSFT\"\n",
    "\n",
    "# Retrieve historical price data using Quandl\n",
    "data1 = quandl.get(\"WIKI/\" + security1, start_date=\"2018-01-01\", end_date=\"2022-01-01\")\n",
    "data2 = quandl.get(\"WIKI/\" + security2, start_date=\"2018-01-01\", end_date=\"2022-01-01\")\n",
    "\n"
   ]
  },
  {
   "cell_type": "code",
   "execution_count": 3,
   "metadata": {},
   "outputs": [],
   "source": [
    "# Calculate the spread between the two securities' prices\n",
    "spread = data1['Adj. Close'] - data2['Adj. Close']\n",
    "\n",
    "# Compute z-score of the spread\n",
    "zscore = (spread - np.mean(spread)) / np.std(spread)\n",
    "\n",
    "# Create a training dataset for SVM\n",
    "X = zscore.values[:-1].reshape(-1, 1)\n",
    "y = np.where(zscore.values[1:] > 0, 1, -1)  # -1 for short signals"
   ]
  },
  {
   "cell_type": "code",
   "execution_count": 4,
   "metadata": {},
   "outputs": [],
   "source": [
    "# Split data into training and testing sets\n",
    "X_train, X_test, y_train, y_test = train_test_split(X, y, test_size=0.2, shuffle=False)\n",
    "\n",
    "# Initialize SVM classifier\n",
    "svm_classifier = SVC(kernel='linear')\n",
    "\n",
    "# Train SVM on the training data\n",
    "svm_classifier.fit(X_train, y_train)\n",
    "\n",
    "# Predict trading signals on the testing data\n",
    "y_pred = svm_classifier.predict(X_test)"
   ]
  },
  {
   "cell_type": "code",
   "execution_count": 5,
   "metadata": {},
   "outputs": [],
   "source": [
    "# Backtrader Strategy\n",
    "class SVMStrategy(bt.Strategy):\n",
    "    params = (\n",
    "        (\"svm_model\", None),\n",
    "    )\n",
    "\n",
    "    def __init__(self):\n",
    "        self.svm_model = self.params.svm_model\n",
    "        self.data_close = self.data0.close\n",
    "        self.signal = self.data1.signal\n",
    "\n",
    "    def next(self):\n",
    "        if self.signal[0] == 1:  # Long signal\n",
    "            self.buy(size=1)\n",
    "        elif self.signal[0] == -1:  # Short signal\n",
    "            self.sell(size=1)"
   ]
  },
  {
   "cell_type": "code",
   "execution_count": 6,
   "metadata": {},
   "outputs": [],
   "source": [
    "# Create Backtrader data feeds\n",
    "class QuandlData(bt.feeds.PandasData):\n",
    "    cols = ('date', 'open', 'high', 'low', 'close', 'volume', 'signal')"
   ]
  },
  {
   "cell_type": "code",
   "execution_count": 9,
   "metadata": {},
   "outputs": [
    {
     "name": "stdout",
     "output_type": "stream",
     "text": [
      "12\n"
     ]
    }
   ],
   "source": [
    "print(len(y_pred))"
   ]
  },
  {
   "cell_type": "code",
   "execution_count": 7,
   "metadata": {},
   "outputs": [
    {
     "ename": "ValueError",
     "evalue": "Length of values (12) does not match length of index (58)",
     "output_type": "error",
     "traceback": [
      "\u001b[1;31m---------------------------------------------------------------------------\u001b[0m",
      "\u001b[1;31mValueError\u001b[0m                                Traceback (most recent call last)",
      "Cell \u001b[1;32mIn[7], line 2\u001b[0m\n\u001b[0;32m      1\u001b[0m \u001b[39m# Combine data and predicted signals\u001b[39;00m\n\u001b[1;32m----> 2\u001b[0m combined_data \u001b[39m=\u001b[39m pd\u001b[39m.\u001b[39mconcat([spread\u001b[39m.\u001b[39mshift(\u001b[39m-\u001b[39m\u001b[39m1\u001b[39m), pd\u001b[39m.\u001b[39;49mSeries(y_pred, index\u001b[39m=\u001b[39;49mspread\u001b[39m.\u001b[39;49mindex[\u001b[39m1\u001b[39;49m:])], axis\u001b[39m=\u001b[39m\u001b[39m1\u001b[39m)\n\u001b[0;32m      3\u001b[0m combined_data\u001b[39m.\u001b[39mcolumns \u001b[39m=\u001b[39m [\u001b[39m'\u001b[39m\u001b[39mspread\u001b[39m\u001b[39m'\u001b[39m, \u001b[39m'\u001b[39m\u001b[39msignal\u001b[39m\u001b[39m'\u001b[39m]\n\u001b[0;32m      5\u001b[0m \u001b[39m# Create a Backtrader Cerebro engine\u001b[39;00m\n",
      "File \u001b[1;32mc:\\Users\\kaush\\AppData\\Local\\Programs\\Python\\Python310\\lib\\site-packages\\pandas\\core\\series.py:461\u001b[0m, in \u001b[0;36mSeries.__init__\u001b[1;34m(self, data, index, dtype, name, copy, fastpath)\u001b[0m\n\u001b[0;32m    459\u001b[0m     index \u001b[39m=\u001b[39m default_index(\u001b[39mlen\u001b[39m(data))\n\u001b[0;32m    460\u001b[0m \u001b[39melif\u001b[39;00m is_list_like(data):\n\u001b[1;32m--> 461\u001b[0m     com\u001b[39m.\u001b[39;49mrequire_length_match(data, index)\n\u001b[0;32m    463\u001b[0m \u001b[39m# create/copy the manager\u001b[39;00m\n\u001b[0;32m    464\u001b[0m \u001b[39mif\u001b[39;00m \u001b[39misinstance\u001b[39m(data, (SingleBlockManager, SingleArrayManager)):\n",
      "File \u001b[1;32mc:\\Users\\kaush\\AppData\\Local\\Programs\\Python\\Python310\\lib\\site-packages\\pandas\\core\\common.py:571\u001b[0m, in \u001b[0;36mrequire_length_match\u001b[1;34m(data, index)\u001b[0m\n\u001b[0;32m    567\u001b[0m \u001b[39m\u001b[39m\u001b[39m\"\"\"\u001b[39;00m\n\u001b[0;32m    568\u001b[0m \u001b[39mCheck the length of data matches the length of the index.\u001b[39;00m\n\u001b[0;32m    569\u001b[0m \u001b[39m\"\"\"\u001b[39;00m\n\u001b[0;32m    570\u001b[0m \u001b[39mif\u001b[39;00m \u001b[39mlen\u001b[39m(data) \u001b[39m!=\u001b[39m \u001b[39mlen\u001b[39m(index):\n\u001b[1;32m--> 571\u001b[0m     \u001b[39mraise\u001b[39;00m \u001b[39mValueError\u001b[39;00m(\n\u001b[0;32m    572\u001b[0m         \u001b[39m\"\u001b[39m\u001b[39mLength of values \u001b[39m\u001b[39m\"\u001b[39m\n\u001b[0;32m    573\u001b[0m         \u001b[39mf\u001b[39m\u001b[39m\"\u001b[39m\u001b[39m(\u001b[39m\u001b[39m{\u001b[39;00m\u001b[39mlen\u001b[39m(data)\u001b[39m}\u001b[39;00m\u001b[39m) \u001b[39m\u001b[39m\"\u001b[39m\n\u001b[0;32m    574\u001b[0m         \u001b[39m\"\u001b[39m\u001b[39mdoes not match length of index \u001b[39m\u001b[39m\"\u001b[39m\n\u001b[0;32m    575\u001b[0m         \u001b[39mf\u001b[39m\u001b[39m\"\u001b[39m\u001b[39m(\u001b[39m\u001b[39m{\u001b[39;00m\u001b[39mlen\u001b[39m(index)\u001b[39m}\u001b[39;00m\u001b[39m)\u001b[39m\u001b[39m\"\u001b[39m\n\u001b[0;32m    576\u001b[0m     )\n",
      "\u001b[1;31mValueError\u001b[0m: Length of values (12) does not match length of index (58)"
     ]
    }
   ],
   "source": [
    "# Combine data and predicted signals\n",
    "combined_data = pd.concat([spread.shift(-1), pd.Series(y_pred, index=spread.index[1:])], axis=1)\n",
    "combined_data.columns = ['spread', 'signal']\n",
    "\n",
    "# Create a Backtrader Cerebro engine\n",
    "cerebro = bt.Cerebro()\n"
   ]
  },
  {
   "cell_type": "code",
   "execution_count": null,
   "metadata": {},
   "outputs": [],
   "source": [
    "# Add data feed\n",
    "data_feed = QuandlData(dataname=combined_data, datetime=combined_data.index, open=None, high=None, low=None, close='spread', volume=None, signal='signal')\n",
    "cerebro.adddata(data_feed)\n"
   ]
  },
  {
   "cell_type": "code",
   "execution_count": null,
   "metadata": {},
   "outputs": [],
   "source": [
    "# Add strategy with SVM model\n",
    "cerebro.addstrategy(SVMStrategy, svm_model=svm_classifier)\n",
    "\n",
    "# Set initial cash amount\n",
    "cerebro.broker.set_cash(100000.0)\n"
   ]
  },
  {
   "cell_type": "code",
   "execution_count": null,
   "metadata": {},
   "outputs": [],
   "source": [
    "# Set commission\n",
    "cerebro.broker.setcommission(commission=0.001)\n"
   ]
  },
  {
   "cell_type": "code",
   "execution_count": null,
   "metadata": {},
   "outputs": [],
   "source": [
    "\n",
    "# Print the starting cash\n",
    "print(\"Starting Portfolio Value: %.2f\" % cerebro.broker.getvalue())"
   ]
  },
  {
   "cell_type": "code",
   "execution_count": null,
   "metadata": {},
   "outputs": [],
   "source": [
    "\n",
    "# Run the backtest\n",
    "cerebro.run()\n",
    "\n",
    "# Print the ending cash\n",
    "print(\"Ending Portfolio Value: %.2f\" % cerebro.broker.getvalue())\n"
   ]
  },
  {
   "cell_type": "code",
   "execution_count": null,
   "metadata": {},
   "outputs": [],
   "source": [
    "\n",
    "# Plot PnL\n",
    "cerebro.plot(style='candle')"
   ]
  },
  {
   "cell_type": "code",
   "execution_count": 10,
   "metadata": {},
   "outputs": [
    {
     "ename": "ValueError",
     "evalue": "Length of values (12) does not match length of index (58)",
     "output_type": "error",
     "traceback": [
      "\u001b[1;31m---------------------------------------------------------------------------\u001b[0m",
      "\u001b[1;31mValueError\u001b[0m                                Traceback (most recent call last)",
      "Cell \u001b[1;32mIn[10], line 73\u001b[0m\n\u001b[0;32m     61\u001b[0m     params \u001b[39m=\u001b[39m (\n\u001b[0;32m     62\u001b[0m         (\u001b[39m'\u001b[39m\u001b[39mdatetime\u001b[39m\u001b[39m'\u001b[39m, \u001b[39mNone\u001b[39;00m),\n\u001b[0;32m     63\u001b[0m         (\u001b[39m'\u001b[39m\u001b[39mopen\u001b[39m\u001b[39m'\u001b[39m, \u001b[39m-\u001b[39m\u001b[39m1\u001b[39m),\n\u001b[1;32m   (...)\u001b[0m\n\u001b[0;32m     69\u001b[0m         (\u001b[39m'\u001b[39m\u001b[39msignal\u001b[39m\u001b[39m'\u001b[39m, \u001b[39mNone\u001b[39;00m),\n\u001b[0;32m     70\u001b[0m     )\n\u001b[0;32m     72\u001b[0m \u001b[39m# Combine data and predicted signals\u001b[39;00m\n\u001b[1;32m---> 73\u001b[0m combined_data \u001b[39m=\u001b[39m pd\u001b[39m.\u001b[39mconcat([spread\u001b[39m.\u001b[39mshift(\u001b[39m-\u001b[39m\u001b[39m1\u001b[39m), pd\u001b[39m.\u001b[39;49mSeries(y_pred, index\u001b[39m=\u001b[39;49mspread\u001b[39m.\u001b[39;49mindex[\u001b[39m1\u001b[39;49m:])], axis\u001b[39m=\u001b[39m\u001b[39m1\u001b[39m)\n\u001b[0;32m     74\u001b[0m combined_data\u001b[39m.\u001b[39mcolumns \u001b[39m=\u001b[39m [\u001b[39m'\u001b[39m\u001b[39mspread\u001b[39m\u001b[39m'\u001b[39m, \u001b[39m'\u001b[39m\u001b[39msignal\u001b[39m\u001b[39m'\u001b[39m]\n\u001b[0;32m     76\u001b[0m \u001b[39m# Create a Backtrader Cerebro engine\u001b[39;00m\n",
      "File \u001b[1;32mc:\\Users\\kaush\\AppData\\Local\\Programs\\Python\\Python310\\lib\\site-packages\\pandas\\core\\series.py:461\u001b[0m, in \u001b[0;36mSeries.__init__\u001b[1;34m(self, data, index, dtype, name, copy, fastpath)\u001b[0m\n\u001b[0;32m    459\u001b[0m     index \u001b[39m=\u001b[39m default_index(\u001b[39mlen\u001b[39m(data))\n\u001b[0;32m    460\u001b[0m \u001b[39melif\u001b[39;00m is_list_like(data):\n\u001b[1;32m--> 461\u001b[0m     com\u001b[39m.\u001b[39;49mrequire_length_match(data, index)\n\u001b[0;32m    463\u001b[0m \u001b[39m# create/copy the manager\u001b[39;00m\n\u001b[0;32m    464\u001b[0m \u001b[39mif\u001b[39;00m \u001b[39misinstance\u001b[39m(data, (SingleBlockManager, SingleArrayManager)):\n",
      "File \u001b[1;32mc:\\Users\\kaush\\AppData\\Local\\Programs\\Python\\Python310\\lib\\site-packages\\pandas\\core\\common.py:571\u001b[0m, in \u001b[0;36mrequire_length_match\u001b[1;34m(data, index)\u001b[0m\n\u001b[0;32m    567\u001b[0m \u001b[39m\u001b[39m\u001b[39m\"\"\"\u001b[39;00m\n\u001b[0;32m    568\u001b[0m \u001b[39mCheck the length of data matches the length of the index.\u001b[39;00m\n\u001b[0;32m    569\u001b[0m \u001b[39m\"\"\"\u001b[39;00m\n\u001b[0;32m    570\u001b[0m \u001b[39mif\u001b[39;00m \u001b[39mlen\u001b[39m(data) \u001b[39m!=\u001b[39m \u001b[39mlen\u001b[39m(index):\n\u001b[1;32m--> 571\u001b[0m     \u001b[39mraise\u001b[39;00m \u001b[39mValueError\u001b[39;00m(\n\u001b[0;32m    572\u001b[0m         \u001b[39m\"\u001b[39m\u001b[39mLength of values \u001b[39m\u001b[39m\"\u001b[39m\n\u001b[0;32m    573\u001b[0m         \u001b[39mf\u001b[39m\u001b[39m\"\u001b[39m\u001b[39m(\u001b[39m\u001b[39m{\u001b[39;00m\u001b[39mlen\u001b[39m(data)\u001b[39m}\u001b[39;00m\u001b[39m) \u001b[39m\u001b[39m\"\u001b[39m\n\u001b[0;32m    574\u001b[0m         \u001b[39m\"\u001b[39m\u001b[39mdoes not match length of index \u001b[39m\u001b[39m\"\u001b[39m\n\u001b[0;32m    575\u001b[0m         \u001b[39mf\u001b[39m\u001b[39m\"\u001b[39m\u001b[39m(\u001b[39m\u001b[39m{\u001b[39;00m\u001b[39mlen\u001b[39m(index)\u001b[39m}\u001b[39;00m\u001b[39m)\u001b[39m\u001b[39m\"\u001b[39m\n\u001b[0;32m    576\u001b[0m     )\n",
      "\u001b[1;31mValueError\u001b[0m: Length of values (12) does not match length of index (58)"
     ]
    }
   ],
   "source": [
    "import backtrader as bt\n",
    "import pandas as pd\n",
    "import numpy as np\n",
    "import quandl\n",
    "from sklearn.model_selection import train_test_split\n",
    "from sklearn.svm import SVC\n",
    "from sklearn.metrics import accuracy_score\n",
    "\n",
    "# Set your Quandl API key\n",
    "quandl.ApiConfig.api_key = \"vJSxz6aLFGy93K1pDtzx\"\n",
    "\n",
    "# Define the two securities you want to trade\n",
    "security1 = \"AAPL\"\n",
    "security2 = \"MSFT\"\n",
    "\n",
    "# Retrieve historical price data using Quandl\n",
    "data1 = quandl.get(\"WIKI/\" + security1, start_date=\"2018-01-01\", end_date=\"2022-01-01\")\n",
    "data2 = quandl.get(\"WIKI/\" + security2, start_date=\"2018-01-01\", end_date=\"2022-01-01\")\n",
    "\n",
    "# Calculate the spread between the two securities' prices\n",
    "spread = data1['Adj. Close'] - data2['Adj. Close']\n",
    "\n",
    "# Compute z-score of the spread\n",
    "zscore = (spread - np.mean(spread)) / np.std(spread)\n",
    "\n",
    "# Create a training dataset for SVM\n",
    "X = zscore.values[:-1].reshape(-1, 1)\n",
    "y = np.where(zscore.values[1:] > 0, 1, -1)  # -1 for short signals\n",
    "\n",
    "# Split data into training and testing sets\n",
    "X_train, X_test, y_train, y_test = train_test_split(X, y, test_size=0.2, shuffle=False)\n",
    "\n",
    "# Initialize SVM classifier\n",
    "svm_classifier = SVC(kernel='linear')\n",
    "\n",
    "# Train SVM on the training data\n",
    "svm_classifier.fit(X_train, y_train)\n",
    "\n",
    "# Predict trading signals on the testing data\n",
    "y_pred = svm_classifier.predict(X_test)\n",
    "\n",
    "# Backtrader Strategy\n",
    "class SVMStrategy(bt.Strategy):\n",
    "    params = (\n",
    "        (\"svm_model\", None),\n",
    "    )\n",
    "\n",
    "    def __init__(self):\n",
    "        self.svm_model = self.params.svm_model\n",
    "        self.data_close = self.data0.close\n",
    "        self.signal = self.data1.signal\n",
    "\n",
    "    def next(self):\n",
    "        if self.signal[0] == 1:  # Long signal\n",
    "            self.buy(size=1)\n",
    "        elif self.signal[0] == -1:  # Short signal\n",
    "            self.sell(size=1)\n",
    "\n",
    "# Create Backtrader data feeds\n",
    "class PandasData(bt.feeds.PandasData):\n",
    "    params = (\n",
    "        ('datetime', None),\n",
    "        ('open', -1),\n",
    "        ('high', -1),\n",
    "        ('low', -1),\n",
    "        ('close', -1),\n",
    "        ('volume', -1),\n",
    "        ('openinterest', None),\n",
    "        ('signal', None),\n",
    "    )\n",
    "\n",
    "# Combine data and predicted signals\n",
    "combined_data = pd.concat([spread.shift(-1), pd.Series(y_pred, index=spread.index[1:])], axis=1)\n",
    "combined_data.columns = ['spread', 'signal']\n",
    "\n",
    "# Create a Backtrader Cerebro engine\n",
    "cerebro = bt.Cerebro()\n",
    "\n",
    "# Add data feed\n",
    "data_feed = PandasData(dataname=combined_data)\n",
    "cerebro.adddata(data_feed)\n",
    "\n",
    "# Add strategy with SVM model\n",
    "cerebro.addstrategy(SVMStrategy, svm_model=svm_classifier)\n",
    "\n",
    "# Set initial cash amount\n",
    "cerebro.broker.set_cash(100000.0)\n",
    "\n",
    "# Set commission\n",
    "cerebro.broker.setcommission(commission=0.001)\n",
    "\n",
    "# Print the starting cash\n",
    "print(\"Starting Portfolio Value: %.2f\" % cerebro.broker.getvalue())\n",
    "\n",
    "# Run the backtest\n",
    "cerebro.run()\n",
    "\n",
    "# Print the ending cash\n",
    "print(\"Ending Portfolio Value: %.2f\" % cerebro.broker.getvalue())\n",
    "\n",
    "# Plot PnL\n",
    "cerebro.plot(style='candle')\n"
   ]
  }
 ],
 "metadata": {
  "kernelspec": {
   "display_name": "Python 3",
   "language": "python",
   "name": "python3"
  },
  "language_info": {
   "codemirror_mode": {
    "name": "ipython",
    "version": 3
   },
   "file_extension": ".py",
   "mimetype": "text/x-python",
   "name": "python",
   "nbconvert_exporter": "python",
   "pygments_lexer": "ipython3",
   "version": "3.10.4"
  },
  "orig_nbformat": 4
 },
 "nbformat": 4,
 "nbformat_minor": 2
}
